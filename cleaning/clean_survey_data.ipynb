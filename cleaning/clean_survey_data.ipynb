{
 "cells": [
  {
   "cell_type": "code",
   "execution_count": 113,
   "metadata": {},
   "outputs": [],
   "source": [
    "import pandas as pd\n",
    "import csv\n",
    "from datetime import timedelta "
   ]
  },
  {
   "cell_type": "code",
   "execution_count": 50,
   "metadata": {},
   "outputs": [
    {
     "name": "stdout",
     "output_type": "stream",
     "text": [
      "11\n",
      "Index(['Timestamp',\n",
      "       'Are you at Prospect Park right now? (Either option will allow you to continue.)',\n",
      "       'What activity are you doing?',\n",
      "       'Is it EASY or DIFFICULT to practice social distancing ON the MAIN TRACK of Prospect Park?',\n",
      "       'Is it EASY or DIFFICULT practice social distancing in areas of Prospect Park APART FROM THE MAIN TRACK?',\n",
      "       'What activity were you doing?', 'When were you at Prospect Park?',\n",
      "       'At what time were you at Prospect Park? (If you don't see an AM/PM option, please use 24hr date format.)',\n",
      "       'Was it EASY or DIFFICULT to practice social distancing on the MAIN TRACK of PROSPECT PARK?',\n",
      "       'Was it EASY or DIFFICULT to practice social distancing in areas of Prospect Park APART FROM THE MAIN TRACK?',\n",
      "       'Please let us know if you have any feedback for us – about this survey, or about social distancing in Prospect Park!'],\n",
      "      dtype='object')\n"
     ]
    }
   ],
   "source": [
    "print(len(data.columns))\n",
    "cols = data.columns\n",
    "print(cols)"
   ]
  },
  {
   "cell_type": "code",
   "execution_count": 94,
   "metadata": {},
   "outputs": [],
   "source": [
    "new_cols = ['timestamp', 'live', 'activity', 'main_track', 'not_main_track', 'r_activity', 'date', 'time', 'r_main_track', 'r_not_main_track', 'qual']"
   ]
  },
  {
   "cell_type": "markdown",
   "metadata": {},
   "source": [
    "# Make clean df"
   ]
  },
  {
   "cell_type": "code",
   "execution_count": 140,
   "metadata": {},
   "outputs": [],
   "source": [
    "\n",
    "\n",
    "path_to_data = \"../model/alldata/ProspectParkSurvey.csv\"\n",
    "\n",
    "def cleandf_csv(path_to_data):\n",
    "    \n",
    "    \n",
    "# Read in\n",
    "\n",
    "\n",
    "    data = pd.read_csv(path_to_data)\n",
    "\n",
    "# Rename columns    \n",
    "\n",
    "    # Dict for rename columns:     # old: NEW\n",
    "    rename_c = {}\n",
    "    for i, col in enumerate(cols):\n",
    "        rename_c[cols[i]] = new_cols[i]\n",
    "        \n",
    "    data = data.rename(columns = rename_c)\n",
    "    data.head(1)\n",
    "\n",
    "# Replace variables\n",
    "\n",
    "    # Safe = 0, Unsafe = 1, Not Sure = 2\n",
    "    data = data.replace('EASY to practice social distancing', 0)\n",
    "    data = data.replace('DIFFICULT to practice social distancing', 1)\n",
    "    data = data.replace(\"I wasn't on the main track at Prospect Park enough to tell\", 2)\n",
    "    data = data.replace(\"I wasn't off the main track at Prospect Park enough to tell\", 2)\n",
    "    data = data.replace(\"I haven't been on the main track at Prospect Park enough to tell\", 2)\n",
    "    data = data.replace(\"I'm not off the main track at Prospect Park enough to tell\", 2)\n",
    "\n",
    "# Merge recall and non reall columns for activity, main_track, and non_main_track\n",
    "\n",
    "    data['activity'] = data['activity'].fillna(data['r_activity'])\n",
    "    data['main_track'] = data['main_track'].fillna(data['r_main_track'])\n",
    "    data['not_main_track'] = data['not_main_track'].fillna(data['r_not_main_track'])\n",
    "    data = data.drop(columns=['r_activity','r_main_track', 'r_not_main_track', 'timestamp'])\n",
    "\n",
    "# Create time_bin column\n",
    "    data['time'] = data['time'].apply(convert24)\n",
    "    \n",
    "    data['time_bin'] = data['date'] + \" \" + data['time']\n",
    "    data['time_bin']= pd.to_datetime(data['time_bin']) \n",
    "\n",
    "    data = data.drop(columns=['date','time'])\n",
    "    data['time_bin'] = BinTime(data['time_bin'])\n",
    "\n",
    "\n",
    "    # Save qualitatitive answers to qual before dropping\n",
    "    qual = data['qual']\n",
    "    data = data.drop(columns=['qual'])\n",
    "    \n",
    "    # REPLACING INDIVIDUAL ENTRIES\n",
    "    data['time_bin'][6] = data.iloc[6]['time_bin'].replace(year = 2020) \n",
    "\n",
    "\n",
    "    return data, qual"
   ]
  },
  {
   "cell_type": "markdown",
   "metadata": {},
   "source": [
    "## Check output and write csv"
   ]
  },
  {
   "cell_type": "code",
   "execution_count": 144,
   "metadata": {},
   "outputs": [
    {
     "name": "stderr",
     "output_type": "stream",
     "text": [
      "/Users/isaurr/src/social_distancing/cleaning/env_sd/lib/python3.7/site-packages/ipykernel_launcher.py:53: SettingWithCopyWarning: \n",
      "A value is trying to be set on a copy of a slice from a DataFrame\n",
      "\n",
      "See the caveats in the documentation: https://pandas.pydata.org/pandas-docs/stable/user_guide/indexing.html#returning-a-view-versus-a-copy\n"
     ]
    }
   ],
   "source": [
    "# CHECK OUTPUT and write csv\n",
    "\n",
    "# WRITE\n",
    "\n",
    "data.to_csv('Survey_clean.csv', index = False, header=True)\n",
    "\n",
    "\n",
    "# CHECK:\n",
    "\n",
    "data, qual = cleandf_csv(path_to_data)\n",
    "\n"
   ]
  },
  {
   "cell_type": "markdown",
   "metadata": {},
   "source": [
    "# Helper functions to clean script:"
   ]
  },
  {
   "cell_type": "code",
   "execution_count": 87,
   "metadata": {},
   "outputs": [
    {
     "name": "stdout",
     "output_type": "stream",
     "text": [
      "20:05:45\n"
     ]
    }
   ],
   "source": [
    "# HElPER FUNCTION FOR TIME CONVERSION:\n",
    "\n",
    "# Python program to convert time \n",
    "# from 12 hour to 24 hour format \n",
    "  \n",
    "# Function to convert the date format \n",
    "def convert24(str1): \n",
    "    \n",
    "    if len(str1) == 10:\n",
    "        str1 = \"0\" + str1\n",
    "      \n",
    "    # Checking if last two elements of time \n",
    "    # is AM and first two elements are 12 \n",
    "    if str1[-2:] == \"AM\" and str1[:2] == \"12\": \n",
    "        return \"00\" + str1[2:-2] \n",
    "          \n",
    "    # remove the AM     \n",
    "    elif str1[-2:] == \"AM\": \n",
    "        return str1[:-2] \n",
    "      \n",
    "    # Checking if last two elements of time \n",
    "    # is PM and first two elements are 12    \n",
    "    elif str1[-2:] == \"PM\" and str1[:2] == \"12\": \n",
    "        return str1[:-2] \n",
    "          \n",
    "    else: \n",
    "        \n",
    "        # add 12 to hours and remove PM \n",
    "        return str(int(str1[:2]) + 12) + str1[2:8] \n",
    "  \n",
    "# Driver Code         \n",
    "print(convert24(\"08:05:45 PM\")) "
   ]
  },
  {
   "cell_type": "code",
   "execution_count": 97,
   "metadata": {},
   "outputs": [],
   "source": [
    "## HUAYI's script for binning: \n",
    "# https://github.com/four-insightfellows-corona-project/PopularTimes/blob/master/Scp/BinTime.py\n",
    "\n",
    "\n",
    "def binMinute(minute):\n",
    "    '''\n",
    "    Calculate which of the 15min bins the current minute falls in.\n",
    "    The bins are 05, 20, 35, 50. \n",
    "    Current minutes less than 05 belong to bin 50 of the hour before. \n",
    "    '''    \n",
    "    m2q= (minute-5)/15\n",
    "    if m2q < 0:\n",
    "        newminute = -10 \n",
    "    elif m2q < 1:\n",
    "        newminute = 5\n",
    "    elif m2q < 2:\n",
    "        newminute = 20\n",
    "    elif m2q < 3:\n",
    "        newminute = 35\n",
    "    elif m2q < 4:\n",
    "        newminute = 50\n",
    "    return newminute       \n",
    "    \n",
    "def BinTime(df_datetime_col):\n",
    "    '''\n",
    "    Take a df column that contains datetime object (df_datetime_col)\n",
    "    Return a new column that contains the binned datetime object\n",
    "    The bins are as defined in binMinute\n",
    "    '''\n",
    "    binned_col= df_datetime_col.apply(lambda x: x.replace(minute = 0) + timedelta(minutes=binMinute(x.minute)))\n",
    "    return binned_col"
   ]
  }
 ],
 "metadata": {
  "kernelspec": {
   "display_name": "ker_sd",
   "language": "python",
   "name": "ker_sd"
  },
  "language_info": {
   "codemirror_mode": {
    "name": "ipython",
    "version": 3
   },
   "file_extension": ".py",
   "mimetype": "text/x-python",
   "name": "python",
   "nbconvert_exporter": "python",
   "pygments_lexer": "ipython3",
   "version": "3.7.4"
  }
 },
 "nbformat": 4,
 "nbformat_minor": 4
}
