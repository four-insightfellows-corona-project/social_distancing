{
 "cells": [
  {
   "cell_type": "markdown",
   "metadata": {},
   "source": [
    "Unfinished - changed approach. See - firstpassb notebook."
   ]
  },
  {
   "cell_type": "markdown",
   "metadata": {},
   "source": [
    "# Reading in data"
   ]
  },
  {
   "cell_type": "code",
   "execution_count": 55,
   "metadata": {},
   "outputs": [],
   "source": [
    "import os\n",
    "import pandas as pd\n",
    "import numpy as np\n",
    "from datetime import datetime\n",
    "import seaborn as sns\n",
    "import re \n",
    "from pandas_profiling import ProfileReport\n",
    "\n",
    "import matplotlib.pyplot as plt"
   ]
  },
  {
   "cell_type": "code",
   "execution_count": 56,
   "metadata": {},
   "outputs": [],
   "source": [
    "path = 'alldata/'\n"
   ]
  },
  {
   "cell_type": "code",
   "execution_count": 57,
   "metadata": {},
   "outputs": [],
   "source": [
    "def make_dataframes(path):\n",
    "    file_names = [pos_csv for pos_csv in os.listdir(path) if pos_csv.endswith('.csv')]\n",
    "    dataframes = {}\n",
    "    dfs = []\n",
    "    for i, file in enumerate(file_names):\n",
    "        df_name = (\"df_\" + file)[:-4]\n",
    "        dfs.append(pd.read_csv(path + file))\n",
    "        dataframes[df_name] = dfs[i]\n",
    "    return dataframes, file_names\n",
    "\n",
    "data_dict, files = make_dataframes(path)"
   ]
  },
  {
   "cell_type": "code",
   "execution_count": 58,
   "metadata": {},
   "outputs": [
    {
     "data": {
      "text/plain": [
       "dict_keys(['df_current_log', 'df_weather_log', 'df_weekpop_df', 'df_binned_weather_history', 'df_binned_current_log', 'df_image_label', 'df_ProspectParkSurvey', 'df_curpop_df', 'df_image_label_isa', 'df_Survey_clean'])"
      ]
     },
     "execution_count": 58,
     "metadata": {},
     "output_type": "execute_result"
    }
   ],
   "source": [
    "# We created a dictionary of dataframes:\n",
    "data_dict.keys()\n",
    "# These are the dataframes:"
   ]
  },
  {
   "cell_type": "markdown",
   "metadata": {},
   "source": [
    "# Pre-merge EDA"
   ]
  },
  {
   "cell_type": "code",
   "execution_count": 59,
   "metadata": {},
   "outputs": [],
   "source": [
    "# We join them on the time_bin column:\n",
    "data_dict['df_image_label_isa'] = data_dict['df_image_label_isa'].rename(columns={\"timetaken\": \"time_bin\"})"
   ]
  },
  {
   "cell_type": "code",
   "execution_count": 60,
   "metadata": {},
   "outputs": [],
   "source": [
    "def fix_time_format(df):\n",
    "    \"\"\" \n",
    "    Turn format to same format for df with 'time_bin' datetime object column.\n",
    "    \"\"\"\n",
    "    print(\"before:\", df['time_bin'].dtype)\n",
    "    df['time_bin']= pd.to_datetime(df['time_bin']) \n",
    "    print(\"after:\", df['time_bin'].dtype)\n",
    "#    df['time_bin'] = df['time_bin'].dt.strftime('%Y-%m-%d %H:%M')\n"
   ]
  },
  {
   "cell_type": "code",
   "execution_count": 61,
   "metadata": {},
   "outputs": [
    {
     "name": "stdout",
     "output_type": "stream",
     "text": [
      "date           datetime64[ns, US/Eastern]\n",
      "text                               object\n",
      "username                           object\n",
      "day_of_week                        object\n",
      "hour                                int64\n",
      "safe                              float64\n",
      "time_bin                   datetime64[ns]\n",
      "dtype: object\n"
     ]
    }
   ],
   "source": [
    "# Read in pkl tweets into dataframe:\n",
    "path_to_pkl = \"alldata/geotweets_labeled_binned.pkl\"\n",
    "\n",
    "def read_pkl(path_to_pkl):\n",
    "    tweets = pd.read_pickle(path_to_pkl)\n",
    "    \n",
    "    # Create tweets_safe (time bin column, safe score column)\n",
    "    print(tweets.dtypes)\n",
    "   # tweets['time_bin'] = tweets['time_bin'].astype(str)\n",
    "    tweets_safe = tweets[pd.notnull(tweets['safe'])]\n",
    "#     tweets_safe = tweets.groupby('time_bin').agg(avg_safe=('safe', 'mean'), num_tweets =('time_bin', 'count'))\n",
    "#     #tweets_safe = tweets.groupby('time_bin').agg({'safe':['mean'], 'safe':['sum']})\n",
    "#     print(len(tweets_safe))\n",
    "#     tweets_safe = tweets_safe.drop(columns=['num_tweets'])\n",
    "#     tweets_safe.columns\n",
    "    tweets_safe = tweets_safe.reset_index()\n",
    "    \n",
    "    # tweets need to be changed to stardard labels: safe = 0, unsafe = 1\n",
    "    tweets_safe[\"safe\"] = tweets_safe[\"safe\"].replace([0, 1], [1,0])\n",
    "    \n",
    "    #fix_time_format(tweets_safe)\n",
    "\n",
    "    \n",
    "    # create tweets_count (time bin column, number of tweets)\n",
    "    tweets_count = tweets.groupby('time_bin').agg(avg_safe=('safe', 'mean'), num_tweets =('time_bin', 'count'))\n",
    "    tweets_count = tweets_count.drop(columns=['avg_safe'])\n",
    "    tweets_count = tweets_count.reset_index()\n",
    "    \n",
    "    \n",
    "    return tweets_safe, tweets_count\n",
    "\n",
    "tweets_safe, tweets_count = read_pkl(path_to_pkl)"
   ]
  },
  {
   "cell_type": "code",
   "execution_count": 62,
   "metadata": {},
   "outputs": [
    {
     "name": "stdout",
     "output_type": "stream",
     "text": [
      "df name: df_curpop_df\n",
      "before: object\n",
      "after: datetime64[ns]\n",
      "begins: 2020-04-02 15:05:00 \n",
      "ends: 2020-04-09 17:05:00 \n",
      "non-na vals: 663 \n",
      "\n",
      "\n",
      "df name: df_binned_current_log\n",
      "before: object\n",
      "after: datetime64[ns]\n",
      "begins: 2020-04-04 08:35:00 \n",
      "ends: 2020-04-10 15:50:00 \n",
      "non-na vals: 483 \n",
      "\n",
      "\n",
      "df name: df_image_label_isa\n",
      "before: object\n",
      "after: datetime64[ns]\n",
      "begins: 2020-04-02 16:05:00 \n",
      "ends: 2020-04-07 18:20:00 \n",
      "non-na vals: 54 \n",
      "\n",
      "\n",
      "df name: df_Survey_clean\n",
      "before: object\n",
      "after: datetime64[ns]\n",
      "begins: 2020-03-29 10:50:00 \n",
      "ends: 2020-04-11 16:20:00 \n",
      "non-na vals: 22 \n",
      "\n",
      "\n",
      "df name: df_binned_weather_history\n",
      "before: object\n",
      "after: datetime64[ns]\n",
      "begins: 2019-12-31 23:50:00 \n",
      "ends: 2020-04-11 22:50:00 \n",
      "non-na vals: 9789 \n",
      "\n",
      "\n",
      "df name: tweets_safe\n",
      "begins: 2020-03-23 14:05:00 \n",
      "ends: 2020-04-13 07:05:00 \n",
      "non-na vals: 32\n"
     ]
    }
   ],
   "source": [
    "considered_dfs = ['df_curpop_df',\n",
    "                  'df_binned_current_log',\n",
    "                  'df_image_label_isa',\n",
    "                  'df_Survey_clean',\n",
    "                  'df_binned_weather_history']\n",
    "\n",
    "def convert_and_examine_time(considered_dfs):\n",
    "    \n",
    "    for df in considered_dfs:\n",
    "        print(\"df name:\", df)\n",
    "        fix_time_format(data_dict[df])\n",
    "        print('begins:', data_dict[df]['time_bin'].min(), \n",
    "              \"\\nends:\", data_dict[df]['time_bin'].max(), \n",
    "              \"\\nnon-na vals:\", data_dict[df]['time_bin'].count(), \"\\n\\n\" )\n",
    "    \n",
    "    print(\"df name:\", \"tweets_safe\")\n",
    "    print('begins:', tweets_safe['time_bin'].min(), \n",
    "          \"\\nends:\", tweets_safe['time_bin'].max(), \n",
    "          \"\\nnon-na vals:\", tweets_safe['time_bin'].count())\n",
    "\n",
    "# fix_time_format(data_dict['df_curpop_df'])\n",
    "# fix_time_format(data_dict['df_binned_current_log'])\n",
    "# fix_time_format(data_dict['df_image_label_isa'])\n",
    "# fix_time_format(data_dict['df_Survey_clean'])\n",
    "# fix_time_format(data_dict['df_binned_weather_history'])\n",
    "\n",
    "convert_and_examine_time(considered_dfs)"
   ]
  },
  {
   "cell_type": "markdown",
   "metadata": {},
   "source": [
    "# Make one big dataframe"
   ]
  },
  {
   "cell_type": "code",
   "execution_count": 63,
   "metadata": {},
   "outputs": [],
   "source": [
    "# Join dataframes on time_bin column:\n",
    "\n",
    "df_full = pd.merge(data_dict['df_curpop_df'], data_dict['df_binned_weather_history'], on='time_bin', how='outer')\n",
    "df_full = pd.merge(df_full, data_dict['df_image_label_isa'], on='time_bin', how='outer')\n",
    "df_full = pd.merge(df_full, data_dict['df_image_label_isa'], on='time_bin', how='outer')\n",
    "df_full = pd.merge(df_full, data_dict['df_binned_current_log'], on='time_bin', how='outer')\n",
    "\n",
    "df_full = pd.merge(df_full, tweets_safe, on='time_bin', how='outer')\n",
    "df_full = pd.merge(df_full, tweets_count, on='time_bin', how='outer')\n"
   ]
  },
  {
   "cell_type": "code",
   "execution_count": 64,
   "metadata": {},
   "outputs": [
    {
     "data": {
      "text/html": [
       "<div>\n",
       "<style scoped>\n",
       "    .dataframe tbody tr th:only-of-type {\n",
       "        vertical-align: middle;\n",
       "    }\n",
       "\n",
       "    .dataframe tbody tr th {\n",
       "        vertical-align: top;\n",
       "    }\n",
       "\n",
       "    .dataframe thead th {\n",
       "        text-align: right;\n",
       "    }\n",
       "</style>\n",
       "<table border=\"1\" class=\"dataframe\">\n",
       "  <thead>\n",
       "    <tr style=\"text-align: right;\">\n",
       "      <th></th>\n",
       "      <th>Unnamed: 0_x</th>\n",
       "      <th>current_popularity</th>\n",
       "      <th>datetime</th>\n",
       "      <th>time_bin</th>\n",
       "      <th>time</th>\n",
       "      <th>temperature</th>\n",
       "      <th>dewpoint</th>\n",
       "      <th>humidity_x</th>\n",
       "      <th>precipitation</th>\n",
       "      <th>windspeed</th>\n",
       "      <th>...</th>\n",
       "      <th>status</th>\n",
       "      <th>detailed_status</th>\n",
       "      <th>index</th>\n",
       "      <th>date</th>\n",
       "      <th>text</th>\n",
       "      <th>username</th>\n",
       "      <th>day_of_week</th>\n",
       "      <th>hour</th>\n",
       "      <th>safe</th>\n",
       "      <th>num_tweets</th>\n",
       "    </tr>\n",
       "  </thead>\n",
       "  <tbody>\n",
       "    <tr>\n",
       "      <th>0</th>\n",
       "      <td>0.0</td>\n",
       "      <td>38.0</td>\n",
       "      <td>4/2/2020 15:17</td>\n",
       "      <td>2020-04-02 15:05:00</td>\n",
       "      <td>NaN</td>\n",
       "      <td>48.785</td>\n",
       "      <td>-0.65</td>\n",
       "      <td>49.75</td>\n",
       "      <td>0.0</td>\n",
       "      <td>44.075</td>\n",
       "      <td>...</td>\n",
       "      <td>NaN</td>\n",
       "      <td>NaN</td>\n",
       "      <td>NaN</td>\n",
       "      <td>NaT</td>\n",
       "      <td>NaN</td>\n",
       "      <td>NaN</td>\n",
       "      <td>NaN</td>\n",
       "      <td>NaN</td>\n",
       "      <td>NaN</td>\n",
       "      <td>NaN</td>\n",
       "    </tr>\n",
       "  </tbody>\n",
       "</table>\n",
       "<p>1 rows × 42 columns</p>\n",
       "</div>"
      ],
      "text/plain": [
       "   Unnamed: 0_x  current_popularity        datetime            time_bin time  \\\n",
       "0           0.0                38.0  4/2/2020 15:17 2020-04-02 15:05:00  NaN   \n",
       "\n",
       "   temperature  dewpoint  humidity_x  precipitation  windspeed  ...  status  \\\n",
       "0       48.785     -0.65       49.75            0.0     44.075  ...     NaN   \n",
       "\n",
       "   detailed_status  index  date text  username  day_of_week hour  safe  \\\n",
       "0              NaN    NaN   NaT  NaN       NaN          NaN  NaN   NaN   \n",
       "\n",
       "   num_tweets  \n",
       "0         NaN  \n",
       "\n",
       "[1 rows x 42 columns]"
      ]
     },
     "execution_count": 64,
     "metadata": {},
     "output_type": "execute_result"
    }
   ],
   "source": [
    "df_full.head(1)"
   ]
  },
  {
   "cell_type": "markdown",
   "metadata": {},
   "source": [
    "# Post-merge EDA"
   ]
  },
  {
   "cell_type": "code",
   "execution_count": 21,
   "metadata": {},
   "outputs": [
    {
     "data": {
      "application/vnd.jupyter.widget-view+json": {
       "model_id": "27685b35854042abaf7d0bb4449fa3ee",
       "version_major": 2,
       "version_minor": 0
      },
      "text/plain": [
       "HBox(children=(FloatProgress(value=0.0, description='variables', max=36.0, style=ProgressStyle(description_wid…"
      ]
     },
     "metadata": {},
     "output_type": "display_data"
    },
    {
     "name": "stdout",
     "output_type": "stream",
     "text": [
      "\n"
     ]
    },
    {
     "data": {
      "application/vnd.jupyter.widget-view+json": {
       "model_id": "d67b6777ecd64f8e837ee3cadc25fcc2",
       "version_major": 2,
       "version_minor": 0
      },
      "text/plain": [
       "HBox(children=(FloatProgress(value=0.0, description='correlations', max=6.0, style=ProgressStyle(description_w…"
      ]
     },
     "metadata": {},
     "output_type": "display_data"
    },
    {
     "name": "stdout",
     "output_type": "stream",
     "text": [
      "\n"
     ]
    },
    {
     "data": {
      "application/vnd.jupyter.widget-view+json": {
       "model_id": "18e5d20d9e014a22a85d336243b70f16",
       "version_major": 2,
       "version_minor": 0
      },
      "text/plain": [
       "HBox(children=(FloatProgress(value=0.0, description='interactions [continuous]', max=484.0, style=ProgressStyl…"
      ]
     },
     "metadata": {},
     "output_type": "display_data"
    },
    {
     "name": "stdout",
     "output_type": "stream",
     "text": [
      "\n"
     ]
    },
    {
     "data": {
      "application/vnd.jupyter.widget-view+json": {
       "model_id": "a0580ac05ac54529815035aa3df3fcd9",
       "version_major": 2,
       "version_minor": 0
      },
      "text/plain": [
       "HBox(children=(FloatProgress(value=0.0, description='table', max=1.0, style=ProgressStyle(description_width='i…"
      ]
     },
     "metadata": {},
     "output_type": "display_data"
    },
    {
     "name": "stdout",
     "output_type": "stream",
     "text": [
      "\n"
     ]
    },
    {
     "data": {
      "application/vnd.jupyter.widget-view+json": {
       "model_id": "398889c3f9824b9d8c93ecb9d9b05368",
       "version_major": 2,
       "version_minor": 0
      },
      "text/plain": [
       "HBox(children=(FloatProgress(value=0.0, description='missing', max=4.0, style=ProgressStyle(description_width=…"
      ]
     },
     "metadata": {},
     "output_type": "display_data"
    },
    {
     "name": "stdout",
     "output_type": "stream",
     "text": [
      "\n"
     ]
    },
    {
     "data": {
      "application/vnd.jupyter.widget-view+json": {
       "model_id": "93e4ff971abe4fc6904b3c7551e078a2",
       "version_major": 2,
       "version_minor": 0
      },
      "text/plain": [
       "HBox(children=(FloatProgress(value=0.0, description='warnings', max=3.0, style=ProgressStyle(description_width…"
      ]
     },
     "metadata": {},
     "output_type": "display_data"
    },
    {
     "name": "stdout",
     "output_type": "stream",
     "text": [
      "\n"
     ]
    },
    {
     "data": {
      "application/vnd.jupyter.widget-view+json": {
       "model_id": "acdd3b09aae94f1ea3637d91fe0d0eac",
       "version_major": 2,
       "version_minor": 0
      },
      "text/plain": [
       "HBox(children=(FloatProgress(value=0.0, description='package', max=1.0, style=ProgressStyle(description_width=…"
      ]
     },
     "metadata": {},
     "output_type": "display_data"
    },
    {
     "name": "stdout",
     "output_type": "stream",
     "text": [
      "\n"
     ]
    },
    {
     "data": {
      "application/vnd.jupyter.widget-view+json": {
       "model_id": "7c2ad4fc39ed49ce9ec0ce968eb74227",
       "version_major": 2,
       "version_minor": 0
      },
      "text/plain": [
       "HBox(children=(FloatProgress(value=0.0, description='build report structure', max=1.0, style=ProgressStyle(des…"
      ]
     },
     "metadata": {},
     "output_type": "display_data"
    },
    {
     "name": "stdout",
     "output_type": "stream",
     "text": [
      "\n"
     ]
    }
   ],
   "source": [
    "# Pandas profiling Report\n",
    "profile = ProfileReport(df_full, title='report', html={'style':{'full_width':True}})\n",
    "profile.to_file(output_file=\"report.html\")"
   ]
  },
  {
   "cell_type": "code",
   "execution_count": 65,
   "metadata": {},
   "outputs": [
    {
     "data": {
      "text/plain": [
       "Unnamed: 0_x            663\n",
       "current_popularity      663\n",
       "datetime                663\n",
       "time_bin              10029\n",
       "time                   2508\n",
       "temperature           10007\n",
       "dewpoint              10007\n",
       "humidity_x            10007\n",
       "precipitation         10007\n",
       "windspeed             10007\n",
       "winddirection         10007\n",
       "pressure              10007\n",
       "Unnamed: 0_y             82\n",
       "label_x                  84\n",
       "Isa_x                    84\n",
       "Unnamed: 0               82\n",
       "label_y                  84\n",
       "Isa_y                    84\n",
       "clouds                  612\n",
       "rain_1h                 612\n",
       "snow_1h                 612\n",
       "wind_speed              612\n",
       "wind_deg                612\n",
       "humidity_y              612\n",
       "press                   612\n",
       "temp                    612\n",
       "temp_feels              612\n",
       "temp_max                612\n",
       "temp_min                612\n",
       "park_name               612\n",
       "sunrise_time            612\n",
       "sunset_time             612\n",
       "status                  612\n",
       "detailed_status         612\n",
       "index                    41\n",
       "date                     41\n",
       "text                     41\n",
       "username                 41\n",
       "day_of_week              41\n",
       "hour                     41\n",
       "safe                     41\n",
       "num_tweets              230\n",
       "dtype: int64"
      ]
     },
     "execution_count": 65,
     "metadata": {},
     "output_type": "execute_result"
    }
   ],
   "source": [
    "# We can see we are missing a lot of data for some variables:\n",
    "df_full.count()"
   ]
  },
  {
   "cell_type": "code",
   "execution_count": 66,
   "metadata": {},
   "outputs": [
    {
     "data": {
      "text/plain": [
       "(10029, 42)"
      ]
     },
     "execution_count": 66,
     "metadata": {},
     "output_type": "execute_result"
    }
   ],
   "source": [
    "df_full.shape"
   ]
  },
  {
   "cell_type": "markdown",
   "metadata": {},
   "source": [
    "Project criteria: **We will only include data from March 23rd, 2020 onward**:"
   ]
  },
  {
   "cell_type": "code",
   "execution_count": 67,
   "metadata": {},
   "outputs": [
    {
     "name": "stdout",
     "output_type": "stream",
     "text": [
      "before filtering: (10029, 42) \n",
      "after filtering: (2156, 42)\n"
     ]
    }
   ],
   "source": [
    "df = df_full[df_full['time_bin'] >= '3/23/2020 00:00']\n",
    "print(\"before filtering:\", df_full.shape, \"\\nafter filtering:\", df.shape)"
   ]
  },
  {
   "cell_type": "markdown",
   "metadata": {},
   "source": [
    "# Building a target variable, and some feature engineering\n",
    "\n",
    "We have a few variables we can use to build a labelled column - we have a lot of missing values, so we can cobble a target variable using different columns:\n",
    "\n",
    "- main_track: from survey data on how busy the main track of the park is (df_Survey_clean)\n",
    "- label, Isa: from photos (df_image_label_isa)\n",
    "- tweets_safe: from twitter scraping data\n"
   ]
  },
  {
   "cell_type": "code",
   "execution_count": null,
   "metadata": {},
   "outputs": [],
   "source": [
    "target_var = ['main_track', 'label', 'Isa', 'tweets_safe']\n",
    "indep_vars = ['activity', 'current_popularity']"
   ]
  },
  {
   "cell_type": "code",
   "execution_count": 43,
   "metadata": {},
   "outputs": [
    {
     "name": "stdout",
     "output_type": "stream",
     "text": [
      "1938\n",
      "2155\n"
     ]
    }
   ],
   "source": [
    "print(df['time_bin'].nunique())\n",
    "print(len(df))"
   ]
  },
  {
   "cell_type": "markdown",
   "metadata": {},
   "source": [
    "Naively drop any target variables that we don't have zeros or ones for:"
   ]
  },
  {
   "cell_type": "code",
   "execution_count": null,
   "metadata": {},
   "outputs": [],
   "source": []
  },
  {
   "cell_type": "code",
   "execution_count": 26,
   "metadata": {},
   "outputs": [
    {
     "data": {
      "text/plain": [
       "dict_keys(['df_current_log', 'df_weather_log', 'df_weekpop_df', 'df_binned_weather_history', 'df_binned_current_log', 'df_image_label', 'df_ProspectParkSurvey', 'df_curpop_df', 'df_image_label_isa', 'df_Survey_clean'])"
      ]
     },
     "execution_count": 26,
     "metadata": {},
     "output_type": "execute_result"
    }
   ],
   "source": [
    "data_dict.keys()\n",
    "temperature, precipitation, windspeed, detailed_status, current_popularity"
   ]
  },
  {
   "cell_type": "code",
   "execution_count": 41,
   "metadata": {},
   "outputs": [
    {
     "data": {
      "text/html": [
       "<div>\n",
       "<style scoped>\n",
       "    .dataframe tbody tr th:only-of-type {\n",
       "        vertical-align: middle;\n",
       "    }\n",
       "\n",
       "    .dataframe tbody tr th {\n",
       "        vertical-align: top;\n",
       "    }\n",
       "\n",
       "    .dataframe thead th {\n",
       "        text-align: right;\n",
       "    }\n",
       "</style>\n",
       "<table border=\"1\" class=\"dataframe\">\n",
       "  <thead>\n",
       "    <tr style=\"text-align: right;\">\n",
       "      <th></th>\n",
       "      <th>time_bin</th>\n",
       "      <th>time</th>\n",
       "      <th>temperature</th>\n",
       "      <th>dewpoint</th>\n",
       "      <th>humidity</th>\n",
       "      <th>precipitation</th>\n",
       "      <th>windspeed</th>\n",
       "      <th>winddirection</th>\n",
       "      <th>pressure</th>\n",
       "    </tr>\n",
       "  </thead>\n",
       "  <tbody>\n",
       "    <tr>\n",
       "      <th>0</th>\n",
       "      <td>2019-12-31 23:50:00</td>\n",
       "      <td>2020-01-01 00:00:00</td>\n",
       "      <td>42.080</td>\n",
       "      <td>3.900</td>\n",
       "      <td>89.00</td>\n",
       "      <td>0.0</td>\n",
       "      <td>13.00</td>\n",
       "      <td>220.0</td>\n",
       "      <td>1004.10</td>\n",
       "    </tr>\n",
       "    <tr>\n",
       "      <th>1</th>\n",
       "      <td>2020-01-01 00:05:00</td>\n",
       "      <td>NaN</td>\n",
       "      <td>42.305</td>\n",
       "      <td>3.900</td>\n",
       "      <td>88.25</td>\n",
       "      <td>0.0</td>\n",
       "      <td>13.90</td>\n",
       "      <td>217.5</td>\n",
       "      <td>1004.00</td>\n",
       "    </tr>\n",
       "    <tr>\n",
       "      <th>2</th>\n",
       "      <td>2020-01-01 00:20:00</td>\n",
       "      <td>NaN</td>\n",
       "      <td>42.530</td>\n",
       "      <td>3.900</td>\n",
       "      <td>87.50</td>\n",
       "      <td>0.0</td>\n",
       "      <td>14.80</td>\n",
       "      <td>215.0</td>\n",
       "      <td>1003.90</td>\n",
       "    </tr>\n",
       "    <tr>\n",
       "      <th>3</th>\n",
       "      <td>2020-01-01 00:35:00</td>\n",
       "      <td>NaN</td>\n",
       "      <td>42.755</td>\n",
       "      <td>3.900</td>\n",
       "      <td>86.75</td>\n",
       "      <td>0.0</td>\n",
       "      <td>15.70</td>\n",
       "      <td>212.5</td>\n",
       "      <td>1003.80</td>\n",
       "    </tr>\n",
       "    <tr>\n",
       "      <th>4</th>\n",
       "      <td>2020-01-01 00:50:00</td>\n",
       "      <td>2020-01-01 01:00:00</td>\n",
       "      <td>42.980</td>\n",
       "      <td>3.900</td>\n",
       "      <td>86.00</td>\n",
       "      <td>0.0</td>\n",
       "      <td>16.60</td>\n",
       "      <td>210.0</td>\n",
       "      <td>1003.70</td>\n",
       "    </tr>\n",
       "    <tr>\n",
       "      <th>...</th>\n",
       "      <td>...</td>\n",
       "      <td>...</td>\n",
       "      <td>...</td>\n",
       "      <td>...</td>\n",
       "      <td>...</td>\n",
       "      <td>...</td>\n",
       "      <td>...</td>\n",
       "      <td>...</td>\n",
       "      <td>...</td>\n",
       "    </tr>\n",
       "    <tr>\n",
       "      <th>9784</th>\n",
       "      <td>2020-04-11 21:50:00</td>\n",
       "      <td>2020-04-11 22:00:00</td>\n",
       "      <td>53.960</td>\n",
       "      <td>-4.900</td>\n",
       "      <td>30.00</td>\n",
       "      <td>0.0</td>\n",
       "      <td>31.70</td>\n",
       "      <td>270.0</td>\n",
       "      <td>1013.10</td>\n",
       "    </tr>\n",
       "    <tr>\n",
       "      <th>9785</th>\n",
       "      <td>2020-04-11 22:05:00</td>\n",
       "      <td>NaN</td>\n",
       "      <td>53.735</td>\n",
       "      <td>-5.225</td>\n",
       "      <td>29.50</td>\n",
       "      <td>0.0</td>\n",
       "      <td>31.15</td>\n",
       "      <td>272.5</td>\n",
       "      <td>1013.25</td>\n",
       "    </tr>\n",
       "    <tr>\n",
       "      <th>9786</th>\n",
       "      <td>2020-04-11 22:20:00</td>\n",
       "      <td>NaN</td>\n",
       "      <td>53.510</td>\n",
       "      <td>-5.550</td>\n",
       "      <td>29.00</td>\n",
       "      <td>0.0</td>\n",
       "      <td>30.60</td>\n",
       "      <td>275.0</td>\n",
       "      <td>1013.40</td>\n",
       "    </tr>\n",
       "    <tr>\n",
       "      <th>9787</th>\n",
       "      <td>2020-04-11 22:35:00</td>\n",
       "      <td>NaN</td>\n",
       "      <td>53.285</td>\n",
       "      <td>-5.875</td>\n",
       "      <td>28.50</td>\n",
       "      <td>0.0</td>\n",
       "      <td>30.05</td>\n",
       "      <td>277.5</td>\n",
       "      <td>1013.55</td>\n",
       "    </tr>\n",
       "    <tr>\n",
       "      <th>9788</th>\n",
       "      <td>2020-04-11 22:50:00</td>\n",
       "      <td>2020-04-11 23:00:00</td>\n",
       "      <td>53.060</td>\n",
       "      <td>-6.200</td>\n",
       "      <td>28.00</td>\n",
       "      <td>0.0</td>\n",
       "      <td>29.50</td>\n",
       "      <td>280.0</td>\n",
       "      <td>1013.70</td>\n",
       "    </tr>\n",
       "  </tbody>\n",
       "</table>\n",
       "<p>9789 rows × 9 columns</p>\n",
       "</div>"
      ],
      "text/plain": [
       "                time_bin                 time  temperature  dewpoint  \\\n",
       "0    2019-12-31 23:50:00  2020-01-01 00:00:00       42.080     3.900   \n",
       "1    2020-01-01 00:05:00                  NaN       42.305     3.900   \n",
       "2    2020-01-01 00:20:00                  NaN       42.530     3.900   \n",
       "3    2020-01-01 00:35:00                  NaN       42.755     3.900   \n",
       "4    2020-01-01 00:50:00  2020-01-01 01:00:00       42.980     3.900   \n",
       "...                  ...                  ...          ...       ...   \n",
       "9784 2020-04-11 21:50:00  2020-04-11 22:00:00       53.960    -4.900   \n",
       "9785 2020-04-11 22:05:00                  NaN       53.735    -5.225   \n",
       "9786 2020-04-11 22:20:00                  NaN       53.510    -5.550   \n",
       "9787 2020-04-11 22:35:00                  NaN       53.285    -5.875   \n",
       "9788 2020-04-11 22:50:00  2020-04-11 23:00:00       53.060    -6.200   \n",
       "\n",
       "      humidity  precipitation  windspeed  winddirection  pressure  \n",
       "0        89.00            0.0      13.00          220.0   1004.10  \n",
       "1        88.25            0.0      13.90          217.5   1004.00  \n",
       "2        87.50            0.0      14.80          215.0   1003.90  \n",
       "3        86.75            0.0      15.70          212.5   1003.80  \n",
       "4        86.00            0.0      16.60          210.0   1003.70  \n",
       "...        ...            ...        ...            ...       ...  \n",
       "9784     30.00            0.0      31.70          270.0   1013.10  \n",
       "9785     29.50            0.0      31.15          272.5   1013.25  \n",
       "9786     29.00            0.0      30.60          275.0   1013.40  \n",
       "9787     28.50            0.0      30.05          277.5   1013.55  \n",
       "9788     28.00            0.0      29.50          280.0   1013.70  \n",
       "\n",
       "[9789 rows x 9 columns]"
      ]
     },
     "execution_count": 41,
     "metadata": {},
     "output_type": "execute_result"
    }
   ],
   "source": [
    "data_dict['df_binned_weather_history']"
   ]
  },
  {
   "cell_type": "code",
   "execution_count": null,
   "metadata": {},
   "outputs": [],
   "source": []
  },
  {
   "cell_type": "code",
   "execution_count": null,
   "metadata": {},
   "outputs": [],
   "source": []
  }
 ],
 "metadata": {
  "kernelspec": {
   "display_name": "ker_sd",
   "language": "python",
   "name": "ker_sd"
  },
  "language_info": {
   "codemirror_mode": {
    "name": "ipython",
    "version": 3
   },
   "file_extension": ".py",
   "mimetype": "text/x-python",
   "name": "python",
   "nbconvert_exporter": "python",
   "pygments_lexer": "ipython3",
   "version": "3.7.4"
  }
 },
 "nbformat": 4,
 "nbformat_minor": 4
}
