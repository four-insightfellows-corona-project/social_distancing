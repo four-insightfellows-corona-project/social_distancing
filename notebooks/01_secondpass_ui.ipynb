{
 "cells": [
  {
   "cell_type": "markdown",
   "metadata": {},
   "source": [
    "# Reading in data\n",
    "\n",
    "## Version two: Constructs two dataframes, with different approaches to label columns\n"
   ]
  },
  {
   "cell_type": "code",
   "execution_count": 1,
   "metadata": {},
   "outputs": [],
   "source": [
    "import os\n",
    "import pandas as pd\n",
    "import numpy as np\n",
    "from datetime import datetime\n",
    "from datetime import timedelta \n",
    "import seaborn as sns\n",
    "import re \n",
    "from pandas_profiling import ProfileReport\n",
    "from sklearn.preprocessing import OneHotEncoder\n",
    "import sklearn\n",
    "\n",
    "import matplotlib.pyplot as plt"
   ]
  },
  {
   "cell_type": "code",
   "execution_count": 2,
   "metadata": {},
   "outputs": [],
   "source": [
    "# Path to data\n",
    "path = 'alldata/'\n",
    "\n",
    "# String to specify ind date\n",
    "end_date = '2020-04-23 23:51:00'\n"
   ]
  },
  {
   "cell_type": "code",
   "execution_count": 3,
   "metadata": {},
   "outputs": [],
   "source": [
    "def make_dataframes(path):\n",
    "    file_names = [pos_csv for pos_csv in os.listdir(path) if pos_csv.endswith('.csv')]\n",
    "    dataframes = {}\n",
    "    dfs = []\n",
    "    for i, file in enumerate(file_names):\n",
    "        df_name = (\"df_\" + file)[:-4]\n",
    "        dfs.append(pd.read_csv(path + file))\n",
    "        dataframes[df_name] = dfs[i]\n",
    "    return dataframes, file_names\n",
    "\n",
    "data_dict, files = make_dataframes(path)"
   ]
  },
  {
   "cell_type": "code",
   "execution_count": 4,
   "metadata": {},
   "outputs": [
    {
     "data": {
      "text/plain": [
       "dict_keys(['df_survey_raw', 'df_current_log', 'df_weather_log', 'df_weekpop_df', 'df_binned_weather_history', 'df_binned_current_log', 'df_image_label', 'df_ProspectParkSurvey', 'df_curpop_df', 'df_image_label_isa', 'df_survey_clean_ap1', 'df_Survey_clean'])"
      ]
     },
     "execution_count": 4,
     "metadata": {},
     "output_type": "execute_result"
    }
   ],
   "source": [
    "# We created a dictionary of dataframes:\n",
    "data_dict.keys()\n",
    "# These are the dataframes:"
   ]
  },
  {
   "cell_type": "markdown",
   "metadata": {},
   "source": [
    "## Twitter tagged data"
   ]
  },
  {
   "cell_type": "code",
   "execution_count": 5,
   "metadata": {},
   "outputs": [],
   "source": [
    "# We join them on the time_bin column:\n",
    "data_dict['df_image_label_isa'] = data_dict['df_image_label_isa'].rename(columns={\"timetaken\": \"time_bin\"})"
   ]
  },
  {
   "cell_type": "code",
   "execution_count": 6,
   "metadata": {},
   "outputs": [],
   "source": [
    "def fix_time_format(df):\n",
    "    \"\"\" \n",
    "    Turn format to same format for df with 'time_bin' datetime object column.\n",
    "    \"\"\"\n",
    "    print(\"before:\", df['time_bin'].dtype)\n",
    "    df['time_bin']= pd.to_datetime(df['time_bin']) \n",
    "    print(\"after:\", df['time_bin'].dtype)\n",
    "#    df['time_bin'] = df['time_bin'].dt.strftime('%Y-%m-%d %H:%M')\n"
   ]
  },
  {
   "cell_type": "code",
   "execution_count": 7,
   "metadata": {},
   "outputs": [
    {
     "name": "stdout",
     "output_type": "stream",
     "text": [
      "date           datetime64[ns, US/Eastern]\n",
      "text                               object\n",
      "username                           object\n",
      "day_of_week                        object\n",
      "hour                                int64\n",
      "safe                              float64\n",
      "time_bin                   datetime64[ns]\n",
      "dtype: object\n"
     ]
    }
   ],
   "source": [
    "# Read in pkl tweets into dataframe:\n",
    "path_to_pkl = \"alldata/geotweets_labeled_binned.pkl\"\n",
    "\n",
    "def read_pkl(path_to_pkl):\n",
    "    tweets = pd.read_pickle(path_to_pkl)\n",
    "    \n",
    "    # Create tweets_safe (time bin column, safe score column)\n",
    "    print(tweets.dtypes)\n",
    "   # tweets['time_bin'] = tweets['time_bin'].astype(str)\n",
    "    tweets_safe = tweets[pd.notnull(tweets['safe'])]\n",
    "#     tweets_safe = tweets.groupby('time_bin').agg(avg_safe=('safe', 'mean'), num_tweets =('time_bin', 'count'))\n",
    "#     #tweets_safe = tweets.groupby('time_bin').agg({'safe':['mean'], 'safe':['sum']})\n",
    "#     print(len(tweets_safe))\n",
    "#     tweets_safe = tweets_safe.drop(columns=['num_tweets'])\n",
    "#     tweets_safe.columns\n",
    "    tweets_safe = tweets_safe.reset_index()\n",
    "    \n",
    "    # tweets need to be changed to stardard labels: safe = 0, unsafe = 1\n",
    "    tweets_safe[\"safe\"] = tweets_safe[\"safe\"].replace([0, 1], [1,0])\n",
    "    \n",
    "#    fix_time_format(tweets_safe)\n",
    "\n",
    "    \n",
    "    # create tweets_count (time bin column, number of tweets)\n",
    "    tweets_count = tweets.groupby('time_bin').agg(avg_safe=('safe', 'mean'), num_tweets =('time_bin', 'count'))\n",
    "    tweets_count = tweets_count.drop(columns=['avg_safe'])\n",
    "    tweets_count = tweets_count.reset_index()\n",
    "    \n",
    "    \n",
    "    return tweets_safe, tweets_count\n",
    "\n",
    "tweets_safe, tweets_count = read_pkl(path_to_pkl)"
   ]
  },
  {
   "cell_type": "markdown",
   "metadata": {},
   "source": [
    "# Make one big dataframe"
   ]
  },
  {
   "cell_type": "code",
   "execution_count": 8,
   "metadata": {},
   "outputs": [
    {
     "name": "stdout",
     "output_type": "stream",
     "text": [
      "df name: df_curpop_df\n",
      "before: object\n",
      "after: datetime64[ns]\n",
      "begins: 2020-04-02 15:05:00 \n",
      "ends: 2020-04-09 17:05:00 \n",
      "non-na vals: 663 \n",
      "\n",
      "\n",
      "df name: df_binned_current_log\n",
      "before: object\n",
      "after: datetime64[ns]\n",
      "begins: 2020-04-04 08:35:00 \n",
      "ends: 2020-04-10 15:50:00 \n",
      "non-na vals: 483 \n",
      "\n",
      "\n",
      "df name: df_image_label_isa\n",
      "before: object\n",
      "after: datetime64[ns]\n",
      "begins: 2020-04-02 16:05:00 \n",
      "ends: 2020-04-07 18:20:00 \n",
      "non-na vals: 54 \n",
      "\n",
      "\n",
      "df name: df_Survey_clean\n",
      "before: object\n",
      "after: datetime64[ns]\n",
      "begins: 2010-04-09 11:50:00 \n",
      "ends: 2020-04-22 16:50:00 \n",
      "non-na vals: 106 \n",
      "\n",
      "\n",
      "df name: df_binned_weather_history\n",
      "before: object\n",
      "after: datetime64[ns]\n",
      "begins: 2019-12-31 23:50:00 \n",
      "ends: 2020-04-11 22:50:00 \n",
      "non-na vals: 9789 \n",
      "\n",
      "\n",
      "df name: tweets_safe\n",
      "begins: 2020-03-23 14:05:00 \n",
      "ends: 2020-04-13 07:05:00 \n",
      "non-na vals: 32\n"
     ]
    }
   ],
   "source": [
    "considered_dfs = ['df_curpop_df',\n",
    "                  'df_binned_current_log',\n",
    "                  'df_image_label_isa',\n",
    "                  'df_Survey_clean',\n",
    "                  'df_binned_weather_history']\n",
    "\n",
    "def convert_and_examine_time(considered_dfs):\n",
    "    for df in considered_dfs:\n",
    "        print(\"df name:\", df)\n",
    "        fix_time_format(data_dict[df])\n",
    "        print('begins:', data_dict[df]['time_bin'].min(), \n",
    "              \"\\nends:\", data_dict[df]['time_bin'].max(), \n",
    "              \"\\nnon-na vals:\", data_dict[df]['time_bin'].count(), \"\\n\\n\" )\n",
    "    print(\"df name:\", \"tweets_safe\")\n",
    "    print('begins:', tweets_safe['time_bin'].min(), \n",
    "          \"\\nends:\", tweets_safe['time_bin'].max(), \n",
    "          \"\\nnon-na vals:\", tweets_safe['time_bin'].count())\n",
    "\n",
    "convert_and_examine_time(considered_dfs)"
   ]
  },
  {
   "cell_type": "code",
   "execution_count": null,
   "metadata": {},
   "outputs": [],
   "source": []
  },
  {
   "cell_type": "code",
   "execution_count": 9,
   "metadata": {},
   "outputs": [],
   "source": [
    "# Join dataframes on time_bin column:\n",
    "\n",
    "df_full = pd.merge(data_dict['df_curpop_df'], data_dict['df_binned_weather_history'], on='time_bin', how='outer')\n",
    "\n",
    "# Standardize models\n",
    "\n",
    "# labels from df_Survey_clean\n",
    "var_mt = pd.merge(data_dict['df_Survey_clean'][['time_bin','main_track']], df_full, on='time_bin', how='left')\n",
    "var_mt = var_mt.rename(columns={'main_track':'label'})\n",
    "var_mt['source'] = \"mt\"\n",
    "\n",
    "# labels from df_image_label_isa (label column) (column is already named correctly)\n",
    "var_label = pd.merge(data_dict['df_image_label_isa'][['time_bin','label']], df_full, on='time_bin', how='left')\n",
    "var_label['source'] = \"h\"\n",
    "\n",
    "# labels from df_image_label_isa (Isa column)\n",
    "var_isa = pd.merge(data_dict['df_image_label_isa'][['time_bin','Isa']], df_full, on='time_bin', how='left')\n",
    "var_isa = var_isa.rename(columns={'Isa':'label'})\n",
    "var_isa['source'] = \"i\"\n",
    "\n",
    "# labels from tweets_safe (safe label)\n",
    "var_tw = pd.merge(tweets_safe[['time_bin','safe']], df_full, on='time_bin', how='left')\n",
    "var_tw = var_tw.rename(columns={'safe':'label'})\n",
    "var_tw['source'] = \"tw\"\n",
    "\n",
    "# Join frames together\n",
    "frames = [var_mt, var_label, var_isa, var_tw]\n",
    "df_full = pd.concat(frames, ignore_index=True)\n",
    "\n",
    "# Create day/hour variables (since we suspect these may be relevant to how safe/unsafe PP is at in a given time_bin)\n",
    "df_full['day_name'] = df_full['time_bin'].dt.day_name()\n",
    "df_full['hour'] = df_full['time_bin'].dt.hour\n"
   ]
  },
  {
   "cell_type": "code",
   "execution_count": 10,
   "metadata": {},
   "outputs": [
    {
     "data": {
      "text/html": [
       "<div>\n",
       "<style scoped>\n",
       "    .dataframe tbody tr th:only-of-type {\n",
       "        vertical-align: middle;\n",
       "    }\n",
       "\n",
       "    .dataframe tbody tr th {\n",
       "        vertical-align: top;\n",
       "    }\n",
       "\n",
       "    .dataframe thead th {\n",
       "        text-align: right;\n",
       "    }\n",
       "</style>\n",
       "<table border=\"1\" class=\"dataframe\">\n",
       "  <thead>\n",
       "    <tr style=\"text-align: right;\">\n",
       "      <th></th>\n",
       "      <th>time_bin</th>\n",
       "      <th>label</th>\n",
       "      <th>Unnamed: 0</th>\n",
       "      <th>current_popularity</th>\n",
       "      <th>datetime</th>\n",
       "      <th>time</th>\n",
       "      <th>temperature</th>\n",
       "      <th>dewpoint</th>\n",
       "      <th>humidity</th>\n",
       "      <th>precipitation</th>\n",
       "      <th>windspeed</th>\n",
       "      <th>winddirection</th>\n",
       "      <th>pressure</th>\n",
       "      <th>source</th>\n",
       "      <th>day_name</th>\n",
       "      <th>hour</th>\n",
       "    </tr>\n",
       "  </thead>\n",
       "  <tbody>\n",
       "    <tr>\n",
       "      <th>0</th>\n",
       "      <td>2020-04-08 18:20:00</td>\n",
       "      <td>1.0</td>\n",
       "      <td>579.0</td>\n",
       "      <td>43.0</td>\n",
       "      <td>4/8/2020 18:24</td>\n",
       "      <td>NaN</td>\n",
       "      <td>62.060</td>\n",
       "      <td>9.40</td>\n",
       "      <td>62.0</td>\n",
       "      <td>0.0</td>\n",
       "      <td>20.35</td>\n",
       "      <td>345.0</td>\n",
       "      <td>1001.250</td>\n",
       "      <td>mt</td>\n",
       "      <td>Wednesday</td>\n",
       "      <td>18</td>\n",
       "    </tr>\n",
       "    <tr>\n",
       "      <th>1</th>\n",
       "      <td>2020-04-08 18:20:00</td>\n",
       "      <td>1.0</td>\n",
       "      <td>580.0</td>\n",
       "      <td>40.0</td>\n",
       "      <td>4/8/2020 18:34</td>\n",
       "      <td>NaN</td>\n",
       "      <td>62.060</td>\n",
       "      <td>9.40</td>\n",
       "      <td>62.0</td>\n",
       "      <td>0.0</td>\n",
       "      <td>20.35</td>\n",
       "      <td>345.0</td>\n",
       "      <td>1001.250</td>\n",
       "      <td>mt</td>\n",
       "      <td>Wednesday</td>\n",
       "      <td>18</td>\n",
       "    </tr>\n",
       "    <tr>\n",
       "      <th>2</th>\n",
       "      <td>2020-04-04 15:50:00</td>\n",
       "      <td>2.0</td>\n",
       "      <td>201.0</td>\n",
       "      <td>63.0</td>\n",
       "      <td>4/4/2020 15:53</td>\n",
       "      <td>2020-04-04 16:00:00</td>\n",
       "      <td>51.980</td>\n",
       "      <td>5.60</td>\n",
       "      <td>69.0</td>\n",
       "      <td>0.0</td>\n",
       "      <td>14.80</td>\n",
       "      <td>40.0</td>\n",
       "      <td>1016.800</td>\n",
       "      <td>mt</td>\n",
       "      <td>Saturday</td>\n",
       "      <td>15</td>\n",
       "    </tr>\n",
       "    <tr>\n",
       "      <th>3</th>\n",
       "      <td>2020-04-04 15:50:00</td>\n",
       "      <td>2.0</td>\n",
       "      <td>202.0</td>\n",
       "      <td>69.0</td>\n",
       "      <td>4/4/2020 16:03</td>\n",
       "      <td>2020-04-04 16:00:00</td>\n",
       "      <td>51.980</td>\n",
       "      <td>5.60</td>\n",
       "      <td>69.0</td>\n",
       "      <td>0.0</td>\n",
       "      <td>14.80</td>\n",
       "      <td>40.0</td>\n",
       "      <td>1016.800</td>\n",
       "      <td>mt</td>\n",
       "      <td>Saturday</td>\n",
       "      <td>15</td>\n",
       "    </tr>\n",
       "    <tr>\n",
       "      <th>4</th>\n",
       "      <td>2020-04-07 18:20:00</td>\n",
       "      <td>1.0</td>\n",
       "      <td>488.0</td>\n",
       "      <td>42.0</td>\n",
       "      <td>4/7/2020 18:21</td>\n",
       "      <td>NaN</td>\n",
       "      <td>61.520</td>\n",
       "      <td>1.30</td>\n",
       "      <td>36.0</td>\n",
       "      <td>0.0</td>\n",
       "      <td>22.15</td>\n",
       "      <td>195.0</td>\n",
       "      <td>1011.500</td>\n",
       "      <td>mt</td>\n",
       "      <td>Tuesday</td>\n",
       "      <td>18</td>\n",
       "    </tr>\n",
       "    <tr>\n",
       "      <th>...</th>\n",
       "      <td>...</td>\n",
       "      <td>...</td>\n",
       "      <td>...</td>\n",
       "      <td>...</td>\n",
       "      <td>...</td>\n",
       "      <td>...</td>\n",
       "      <td>...</td>\n",
       "      <td>...</td>\n",
       "      <td>...</td>\n",
       "      <td>...</td>\n",
       "      <td>...</td>\n",
       "      <td>...</td>\n",
       "      <td>...</td>\n",
       "      <td>...</td>\n",
       "      <td>...</td>\n",
       "      <td>...</td>\n",
       "    </tr>\n",
       "    <tr>\n",
       "      <th>320</th>\n",
       "      <td>2020-04-08 21:20:00</td>\n",
       "      <td>1.0</td>\n",
       "      <td>NaN</td>\n",
       "      <td>NaN</td>\n",
       "      <td>NaN</td>\n",
       "      <td>NaN</td>\n",
       "      <td>63.500</td>\n",
       "      <td>8.85</td>\n",
       "      <td>57.0</td>\n",
       "      <td>0.0</td>\n",
       "      <td>22.30</td>\n",
       "      <td>350.0</td>\n",
       "      <td>1001.550</td>\n",
       "      <td>tw</td>\n",
       "      <td>Wednesday</td>\n",
       "      <td>21</td>\n",
       "    </tr>\n",
       "    <tr>\n",
       "      <th>321</th>\n",
       "      <td>2020-04-09 08:50:00</td>\n",
       "      <td>1.0</td>\n",
       "      <td>613.0</td>\n",
       "      <td>21.0</td>\n",
       "      <td>4/9/2020 8:55</td>\n",
       "      <td>2020-04-09 09:00:00</td>\n",
       "      <td>46.040</td>\n",
       "      <td>7.20</td>\n",
       "      <td>96.0</td>\n",
       "      <td>0.0</td>\n",
       "      <td>5.40</td>\n",
       "      <td>140.0</td>\n",
       "      <td>1001.200</td>\n",
       "      <td>tw</td>\n",
       "      <td>Thursday</td>\n",
       "      <td>8</td>\n",
       "    </tr>\n",
       "    <tr>\n",
       "      <th>322</th>\n",
       "      <td>2020-04-11 18:05:00</td>\n",
       "      <td>1.0</td>\n",
       "      <td>NaN</td>\n",
       "      <td>NaN</td>\n",
       "      <td>NaN</td>\n",
       "      <td>NaN</td>\n",
       "      <td>52.475</td>\n",
       "      <td>-6.30</td>\n",
       "      <td>28.5</td>\n",
       "      <td>0.0</td>\n",
       "      <td>31.15</td>\n",
       "      <td>267.5</td>\n",
       "      <td>1012.525</td>\n",
       "      <td>tw</td>\n",
       "      <td>Saturday</td>\n",
       "      <td>18</td>\n",
       "    </tr>\n",
       "    <tr>\n",
       "      <th>323</th>\n",
       "      <td>2020-04-12 09:50:00</td>\n",
       "      <td>1.0</td>\n",
       "      <td>NaN</td>\n",
       "      <td>NaN</td>\n",
       "      <td>NaN</td>\n",
       "      <td>NaN</td>\n",
       "      <td>NaN</td>\n",
       "      <td>NaN</td>\n",
       "      <td>NaN</td>\n",
       "      <td>NaN</td>\n",
       "      <td>NaN</td>\n",
       "      <td>NaN</td>\n",
       "      <td>NaN</td>\n",
       "      <td>tw</td>\n",
       "      <td>Sunday</td>\n",
       "      <td>9</td>\n",
       "    </tr>\n",
       "    <tr>\n",
       "      <th>324</th>\n",
       "      <td>2020-04-13 07:05:00</td>\n",
       "      <td>0.0</td>\n",
       "      <td>NaN</td>\n",
       "      <td>NaN</td>\n",
       "      <td>NaN</td>\n",
       "      <td>NaN</td>\n",
       "      <td>NaN</td>\n",
       "      <td>NaN</td>\n",
       "      <td>NaN</td>\n",
       "      <td>NaN</td>\n",
       "      <td>NaN</td>\n",
       "      <td>NaN</td>\n",
       "      <td>NaN</td>\n",
       "      <td>tw</td>\n",
       "      <td>Monday</td>\n",
       "      <td>7</td>\n",
       "    </tr>\n",
       "  </tbody>\n",
       "</table>\n",
       "<p>325 rows × 16 columns</p>\n",
       "</div>"
      ],
      "text/plain": [
       "               time_bin  label  Unnamed: 0  current_popularity  \\\n",
       "0   2020-04-08 18:20:00    1.0       579.0                43.0   \n",
       "1   2020-04-08 18:20:00    1.0       580.0                40.0   \n",
       "2   2020-04-04 15:50:00    2.0       201.0                63.0   \n",
       "3   2020-04-04 15:50:00    2.0       202.0                69.0   \n",
       "4   2020-04-07 18:20:00    1.0       488.0                42.0   \n",
       "..                  ...    ...         ...                 ...   \n",
       "320 2020-04-08 21:20:00    1.0         NaN                 NaN   \n",
       "321 2020-04-09 08:50:00    1.0       613.0                21.0   \n",
       "322 2020-04-11 18:05:00    1.0         NaN                 NaN   \n",
       "323 2020-04-12 09:50:00    1.0         NaN                 NaN   \n",
       "324 2020-04-13 07:05:00    0.0         NaN                 NaN   \n",
       "\n",
       "           datetime                 time  temperature  dewpoint  humidity  \\\n",
       "0    4/8/2020 18:24                  NaN       62.060      9.40      62.0   \n",
       "1    4/8/2020 18:34                  NaN       62.060      9.40      62.0   \n",
       "2    4/4/2020 15:53  2020-04-04 16:00:00       51.980      5.60      69.0   \n",
       "3    4/4/2020 16:03  2020-04-04 16:00:00       51.980      5.60      69.0   \n",
       "4    4/7/2020 18:21                  NaN       61.520      1.30      36.0   \n",
       "..              ...                  ...          ...       ...       ...   \n",
       "320             NaN                  NaN       63.500      8.85      57.0   \n",
       "321   4/9/2020 8:55  2020-04-09 09:00:00       46.040      7.20      96.0   \n",
       "322             NaN                  NaN       52.475     -6.30      28.5   \n",
       "323             NaN                  NaN          NaN       NaN       NaN   \n",
       "324             NaN                  NaN          NaN       NaN       NaN   \n",
       "\n",
       "     precipitation  windspeed  winddirection  pressure source   day_name  hour  \n",
       "0              0.0      20.35          345.0  1001.250     mt  Wednesday    18  \n",
       "1              0.0      20.35          345.0  1001.250     mt  Wednesday    18  \n",
       "2              0.0      14.80           40.0  1016.800     mt   Saturday    15  \n",
       "3              0.0      14.80           40.0  1016.800     mt   Saturday    15  \n",
       "4              0.0      22.15          195.0  1011.500     mt    Tuesday    18  \n",
       "..             ...        ...            ...       ...    ...        ...   ...  \n",
       "320            0.0      22.30          350.0  1001.550     tw  Wednesday    21  \n",
       "321            0.0       5.40          140.0  1001.200     tw   Thursday     8  \n",
       "322            0.0      31.15          267.5  1012.525     tw   Saturday    18  \n",
       "323            NaN        NaN            NaN       NaN     tw     Sunday     9  \n",
       "324            NaN        NaN            NaN       NaN     tw     Monday     7  \n",
       "\n",
       "[325 rows x 16 columns]"
      ]
     },
     "execution_count": 10,
     "metadata": {},
     "output_type": "execute_result"
    }
   ],
   "source": [
    "df_full"
   ]
  },
  {
   "cell_type": "markdown",
   "metadata": {},
   "source": [
    "# Post-merge EDA"
   ]
  },
  {
   "cell_type": "code",
   "execution_count": 11,
   "metadata": {},
   "outputs": [],
   "source": [
    "# Pandas profiling Report\n",
    "# profile = ProfileReport(df_full, title='report', html={'style':{'full_width':True}})\n",
    "# profile.to_file(output_file=\"report.html\")"
   ]
  },
  {
   "cell_type": "code",
   "execution_count": 12,
   "metadata": {},
   "outputs": [
    {
     "data": {
      "text/plain": [
       "time_bin              325\n",
       "label                 324\n",
       "Unnamed: 0            221\n",
       "current_popularity    221\n",
       "datetime              221\n",
       "time                   75\n",
       "temperature           243\n",
       "dewpoint              243\n",
       "humidity              243\n",
       "precipitation         243\n",
       "windspeed             243\n",
       "winddirection         243\n",
       "pressure              243\n",
       "source                325\n",
       "day_name              325\n",
       "hour                  325\n",
       "dtype: int64"
      ]
     },
     "execution_count": 12,
     "metadata": {},
     "output_type": "execute_result"
    }
   ],
   "source": [
    "# We can see we are missing a lot of data for some variables:\n",
    "df_full.count()"
   ]
  },
  {
   "cell_type": "code",
   "execution_count": 13,
   "metadata": {},
   "outputs": [
    {
     "data": {
      "text/plain": [
       "(325, 16)"
      ]
     },
     "execution_count": 13,
     "metadata": {},
     "output_type": "execute_result"
    }
   ],
   "source": [
    "df_full.shape"
   ]
  },
  {
   "cell_type": "markdown",
   "metadata": {},
   "source": [
    "Project criteria: **We will only include data from March 23rd, 2020 onward**:"
   ]
  },
  {
   "cell_type": "code",
   "execution_count": 14,
   "metadata": {},
   "outputs": [
    {
     "name": "stdout",
     "output_type": "stream",
     "text": [
      "before filtering: (325, 16) \n",
      "after filtering: (321, 16)\n"
     ]
    }
   ],
   "source": [
    "df = df_full[df_full['time_bin'] >= '3/23/2020 00:00']\n",
    "print(\"before filtering:\", df_full.shape, \"\\nafter filtering:\", df.shape)"
   ]
  },
  {
   "cell_type": "markdown",
   "metadata": {},
   "source": [
    "# EDA of original data"
   ]
  },
  {
   "cell_type": "markdown",
   "metadata": {},
   "source": [
    "We have a few variables we can use to build a labelled column - we have a lot of missing values, so we can cobble a target variable using different columns:\n",
    "\n",
    "- main_track: from survey data on how busy the main track of the park is (df_Survey_clean)\n",
    "- label, Isa: from photos (df_image_label_isa)\n",
    "- tweets_safe: from twitter scraping data\n"
   ]
  },
  {
   "cell_type": "code",
   "execution_count": 15,
   "metadata": {},
   "outputs": [
    {
     "name": "stdout",
     "output_type": "stream",
     "text": [
      "We have 325 observations for 164 time bins. \n",
      "We drop rows before March 22nds, and have 321 observations left.\n"
     ]
    }
   ],
   "source": [
    "len1 = len(df_full)\n",
    "print(\"We have\", len(df_full), \"observations for\", df_full['time_bin'].nunique(), \"time bins.\",\n",
    "     \"\\nWe drop rows before March 22nds, and have\", len(df), \"observations left.\")\n"
   ]
  },
  {
   "cell_type": "markdown",
   "metadata": {},
   "source": [
    "Drop rows that we don't have zeros or ones for:"
   ]
  },
  {
   "cell_type": "code",
   "execution_count": 16,
   "metadata": {},
   "outputs": [
    {
     "name": "stdout",
     "output_type": "stream",
     "text": [
      "Before dropping we have (321, 16) observations left.\n",
      "0.0    145\n",
      "1.0    106\n",
      "2.0     69\n",
      "NaN      1\n",
      "Name: label, dtype: int64\n",
      "0.0    145\n",
      "1.0    106\n",
      "2.0     69\n",
      "Name: label, dtype: int64\n",
      "float64\n",
      "Index(['time_bin', 'label', 'Unnamed: 0', 'current_popularity', 'datetime',\n",
      "       'time', 'temperature', 'dewpoint', 'humidity', 'precipitation',\n",
      "       'windspeed', 'winddirection', 'pressure', 'source', 'day_name', 'hour'],\n",
      "      dtype='object')\n",
      "0.0    145\n",
      "1.0    106\n",
      "Name: label, dtype: int64\n",
      "Index(['time_bin', 'label', 'current_popularity', 'temperature', 'humidity',\n",
      "       'precipitation', 'windspeed', 'day_name', 'source', 'hour'],\n",
      "      dtype='object')\n",
      "After dropping we have (251, 10) observations left.\n"
     ]
    }
   ],
   "source": [
    "print(\"Before dropping we have\", df.shape, \"observations left.\")\n",
    "print(df['label'].value_counts(dropna=False))\n",
    "df = df[df['label'].notna()]\n",
    "print(df['label'].value_counts(dropna=False))\n",
    "print(df['label'].dtypes)\n",
    "print(df.columns)\n",
    "df = df[['time_bin', 'label', 'current_popularity',\n",
    "       'temperature', 'humidity', 'precipitation',\n",
    "       'windspeed', 'day_name', 'source', 'hour']]\n",
    "df = df[df['label']!=2]\n",
    "print(df['label'].value_counts(dropna=False))\n",
    "print(df.columns)\n",
    "print(\"After dropping we have\", df.shape, \"observations left.\")"
   ]
  },
  {
   "cell_type": "code",
   "execution_count": 17,
   "metadata": {},
   "outputs": [
    {
     "data": {
      "image/png": "[encoded data removed]",
      "text/plain": [
       "<Figure size 576x396 with 2 Axes>"
      ]
     },
     "metadata": {},
     "output_type": "display_data"
    }
   ],
   "source": [
    "corr = df.corr()\n",
    "ax = sns.heatmap(\n",
    "    corr, \n",
    "    vmin=-1, vmax=1, center=0,\n",
    "    cmap=sns.diverging_palette(20, 220, n=200),\n",
    "    square=True\n",
    ")\n",
    "ax.set_xticklabels(\n",
    "    ax.get_xticklabels(),\n",
    "    rotation=45,\n",
    "    horizontalalignment='right'\n",
    ");"
   ]
  },
  {
   "cell_type": "markdown",
   "metadata": {},
   "source": [
    "We can probably do something a bit more meaningful by exploding day_name:"
   ]
  },
  {
   "cell_type": "code",
   "execution_count": 18,
   "metadata": {},
   "outputs": [
    {
     "data": {
      "text/html": [
       "<div>\n",
       "<style scoped>\n",
       "    .dataframe tbody tr th:only-of-type {\n",
       "        vertical-align: middle;\n",
       "    }\n",
       "\n",
       "    .dataframe tbody tr th {\n",
       "        vertical-align: top;\n",
       "    }\n",
       "\n",
       "    .dataframe thead th {\n",
       "        text-align: right;\n",
       "    }\n",
       "</style>\n",
       "<table border=\"1\" class=\"dataframe\">\n",
       "  <thead>\n",
       "    <tr style=\"text-align: right;\">\n",
       "      <th></th>\n",
       "      <th>time_bin</th>\n",
       "      <th>label</th>\n",
       "      <th>current_popularity</th>\n",
       "      <th>temperature</th>\n",
       "      <th>humidity</th>\n",
       "      <th>precipitation</th>\n",
       "      <th>windspeed</th>\n",
       "      <th>day_name</th>\n",
       "      <th>source</th>\n",
       "      <th>hour</th>\n",
       "      <th>0</th>\n",
       "      <th>1</th>\n",
       "      <th>2</th>\n",
       "      <th>3</th>\n",
       "      <th>4</th>\n",
       "      <th>5</th>\n",
       "      <th>6</th>\n",
       "    </tr>\n",
       "  </thead>\n",
       "  <tbody>\n",
       "    <tr>\n",
       "      <th>0</th>\n",
       "      <td>2020-04-08 18:20:00</td>\n",
       "      <td>1.0</td>\n",
       "      <td>43.0</td>\n",
       "      <td>62.06</td>\n",
       "      <td>62.0</td>\n",
       "      <td>0.0</td>\n",
       "      <td>20.35</td>\n",
       "      <td>Wednesday</td>\n",
       "      <td>mt</td>\n",
       "      <td>18</td>\n",
       "      <td>0.0</td>\n",
       "      <td>0.0</td>\n",
       "      <td>0.0</td>\n",
       "      <td>0.0</td>\n",
       "      <td>0.0</td>\n",
       "      <td>0.0</td>\n",
       "      <td>1.0</td>\n",
       "    </tr>\n",
       "  </tbody>\n",
       "</table>\n",
       "</div>"
      ],
      "text/plain": [
       "             time_bin  label  current_popularity  temperature  humidity  \\\n",
       "0 2020-04-08 18:20:00    1.0                43.0        62.06      62.0   \n",
       "\n",
       "   precipitation  windspeed   day_name source  hour    0    1    2    3    4  \\\n",
       "0            0.0      20.35  Wednesday     mt    18  0.0  0.0  0.0  0.0  0.0   \n",
       "\n",
       "     5    6  \n",
       "0  0.0  1.0  "
      ]
     },
     "execution_count": 18,
     "metadata": {},
     "output_type": "execute_result"
    }
   ],
   "source": [
    "# creating instance of one-hot-encoder\n",
    "enc = OneHotEncoder(handle_unknown='ignore')\n",
    "\n",
    "# passing cat column (label encoded values of bridge_types)\n",
    "enc_df = pd.DataFrame(enc.fit_transform(df[['day_name']]).toarray())\n",
    "\n",
    "# merge with main df bridge_df on key values\n",
    "df_m = df.join(enc_df)\n",
    "df_m.head(1)\n"
   ]
  },
  {
   "cell_type": "code",
   "execution_count": 19,
   "metadata": {},
   "outputs": [
    {
     "data": {
      "image/png": "[encoded data removed]",
      "text/plain": [
       "<Figure size 576x396 with 2 Axes>"
      ]
     },
     "metadata": {},
     "output_type": "display_data"
    }
   ],
   "source": [
    "corr = df_m.corr()\n",
    "ax = sns.heatmap(\n",
    "    corr, \n",
    "    vmin=-1, vmax=1, center=0,\n",
    "    cmap=sns.diverging_palette(20, 220, n=200),\n",
    "    square=True\n",
    ")\n",
    "ax.set_xticklabels(\n",
    "    ax.get_xticklabels(),\n",
    "    rotation=45,\n",
    "    horizontalalignment='right'\n",
    ");"
   ]
  },
  {
   "cell_type": "markdown",
   "metadata": {},
   "source": [
    "Look at some counts w/crosstab:"
   ]
  },
  {
   "cell_type": "code",
   "execution_count": 20,
   "metadata": {},
   "outputs": [
    {
     "data": {
      "image/png": "[encoded data removed]",
      "text/plain": [
       "<Figure size 576x396 with 1 Axes>"
      ]
     },
     "metadata": {},
     "output_type": "display_data"
    }
   ],
   "source": [
    "# Table of survival vs passenger class\n",
    "t1 = pd.crosstab(index=df_m[\"label\"], columns=df_m[\"day_name\"])\n",
    "t1.plot.bar(stacked=True)\n",
    "plt.legend(title='mark')\n",
    "\n",
    "plt.show()"
   ]
  },
  {
   "cell_type": "code",
   "execution_count": 21,
   "metadata": {},
   "outputs": [
    {
     "data": {
      "image/png": "[encoded data removed]",
      "text/plain": [
       "<Figure size 576x396 with 1 Axes>"
      ]
     },
     "metadata": {},
     "output_type": "display_data"
    }
   ],
   "source": [
    "t2 = pd.crosstab(index=df_m[\"hour\"], columns=df_m[\"day_name\"])\n",
    "\n",
    "t2.plot.bar(stacked=True)\n",
    "plt.legend(title='mark')\n",
    "\n",
    "plt.show()"
   ]
  },
  {
   "cell_type": "code",
   "execution_count": 22,
   "metadata": {},
   "outputs": [
    {
     "data": {
      "text/html": [
       "<div>\n",
       "<style scoped>\n",
       "    .dataframe tbody tr th:only-of-type {\n",
       "        vertical-align: middle;\n",
       "    }\n",
       "\n",
       "    .dataframe tbody tr th {\n",
       "        vertical-align: top;\n",
       "    }\n",
       "\n",
       "    .dataframe thead th {\n",
       "        text-align: right;\n",
       "    }\n",
       "</style>\n",
       "<table border=\"1\" class=\"dataframe\">\n",
       "  <thead>\n",
       "    <tr style=\"text-align: right;\">\n",
       "      <th>hour</th>\n",
       "      <th>0</th>\n",
       "      <th>5</th>\n",
       "      <th>6</th>\n",
       "      <th>7</th>\n",
       "      <th>8</th>\n",
       "      <th>9</th>\n",
       "      <th>10</th>\n",
       "      <th>11</th>\n",
       "      <th>12</th>\n",
       "      <th>13</th>\n",
       "      <th>14</th>\n",
       "      <th>15</th>\n",
       "      <th>16</th>\n",
       "      <th>17</th>\n",
       "      <th>18</th>\n",
       "      <th>19</th>\n",
       "      <th>20</th>\n",
       "      <th>21</th>\n",
       "    </tr>\n",
       "    <tr>\n",
       "      <th>label</th>\n",
       "      <th></th>\n",
       "      <th></th>\n",
       "      <th></th>\n",
       "      <th></th>\n",
       "      <th></th>\n",
       "      <th></th>\n",
       "      <th></th>\n",
       "      <th></th>\n",
       "      <th></th>\n",
       "      <th></th>\n",
       "      <th></th>\n",
       "      <th></th>\n",
       "      <th></th>\n",
       "      <th></th>\n",
       "      <th></th>\n",
       "      <th></th>\n",
       "      <th></th>\n",
       "      <th></th>\n",
       "    </tr>\n",
       "  </thead>\n",
       "  <tbody>\n",
       "    <tr>\n",
       "      <th>0.0</th>\n",
       "      <td>1</td>\n",
       "      <td>1</td>\n",
       "      <td>4</td>\n",
       "      <td>11</td>\n",
       "      <td>17</td>\n",
       "      <td>12</td>\n",
       "      <td>16</td>\n",
       "      <td>9</td>\n",
       "      <td>12</td>\n",
       "      <td>7</td>\n",
       "      <td>4</td>\n",
       "      <td>9</td>\n",
       "      <td>8</td>\n",
       "      <td>10</td>\n",
       "      <td>8</td>\n",
       "      <td>11</td>\n",
       "      <td>5</td>\n",
       "      <td>0</td>\n",
       "    </tr>\n",
       "    <tr>\n",
       "      <th>1.0</th>\n",
       "      <td>0</td>\n",
       "      <td>0</td>\n",
       "      <td>0</td>\n",
       "      <td>3</td>\n",
       "      <td>5</td>\n",
       "      <td>4</td>\n",
       "      <td>4</td>\n",
       "      <td>5</td>\n",
       "      <td>6</td>\n",
       "      <td>8</td>\n",
       "      <td>11</td>\n",
       "      <td>12</td>\n",
       "      <td>17</td>\n",
       "      <td>12</td>\n",
       "      <td>15</td>\n",
       "      <td>2</td>\n",
       "      <td>1</td>\n",
       "      <td>1</td>\n",
       "    </tr>\n",
       "  </tbody>\n",
       "</table>\n",
       "</div>"
      ],
      "text/plain": [
       "hour   0   5   6   7   8   9   10  11  12  13  14  15  16  17  18  19  20  21\n",
       "label                                                                        \n",
       "0.0     1   1   4  11  17  12  16   9  12   7   4   9   8  10   8  11   5   0\n",
       "1.0     0   0   0   3   5   4   4   5   6   8  11  12  17  12  15   2   1   1"
      ]
     },
     "execution_count": 22,
     "metadata": {},
     "output_type": "execute_result"
    }
   ],
   "source": [
    "t3 = pd.crosstab(index=df_m[\"label\"], columns=df_m[\"hour\"])\n",
    "t3"
   ]
  },
  {
   "cell_type": "code",
   "execution_count": 23,
   "metadata": {},
   "outputs": [
    {
     "data": {
      "image/png": "[encoded data removed]",
      "text/plain": [
       "<Figure size 576x396 with 1 Axes>"
      ]
     },
     "metadata": {},
     "output_type": "display_data"
    }
   ],
   "source": [
    "t4 = pd.crosstab(index=df_m[\"hour\"], columns=df_m[\"label\"])\n",
    "\n",
    "t4.plot.bar(stacked=True)\n",
    "plt.legend(title='mark')\n",
    "\n",
    "plt.show()"
   ]
  },
  {
   "cell_type": "markdown",
   "metadata": {},
   "source": [
    "# MVP Model"
   ]
  },
  {
   "cell_type": "code",
   "execution_count": 24,
   "metadata": {},
   "outputs": [],
   "source": [
    "from sklearn import metrics \n",
    "from sklearn.linear_model import LogisticRegression\n",
    "from sklearn.model_selection import train_test_split\n",
    "from sklearn.metrics import confusion_matrix\n",
    "from sklearn.metrics import classification_report\n"
   ]
  },
  {
   "cell_type": "code",
   "execution_count": 25,
   "metadata": {},
   "outputs": [
    {
     "data": {
      "text/html": [
       "<div>\n",
       "<style scoped>\n",
       "    .dataframe tbody tr th:only-of-type {\n",
       "        vertical-align: middle;\n",
       "    }\n",
       "\n",
       "    .dataframe tbody tr th {\n",
       "        vertical-align: top;\n",
       "    }\n",
       "\n",
       "    .dataframe thead th {\n",
       "        text-align: right;\n",
       "    }\n",
       "</style>\n",
       "<table border=\"1\" class=\"dataframe\">\n",
       "  <thead>\n",
       "    <tr style=\"text-align: right;\">\n",
       "      <th></th>\n",
       "      <th>label</th>\n",
       "      <th>current_popularity</th>\n",
       "      <th>temperature</th>\n",
       "      <th>precipitation</th>\n",
       "      <th>windspeed</th>\n",
       "      <th>hour</th>\n",
       "      <th>0</th>\n",
       "      <th>1</th>\n",
       "      <th>2</th>\n",
       "      <th>3</th>\n",
       "      <th>4</th>\n",
       "      <th>5</th>\n",
       "      <th>6</th>\n",
       "    </tr>\n",
       "  </thead>\n",
       "  <tbody>\n",
       "    <tr>\n",
       "      <th>0</th>\n",
       "      <td>1.0</td>\n",
       "      <td>43.0</td>\n",
       "      <td>62.06</td>\n",
       "      <td>0.0</td>\n",
       "      <td>20.35</td>\n",
       "      <td>18</td>\n",
       "      <td>0.0</td>\n",
       "      <td>0.0</td>\n",
       "      <td>0.0</td>\n",
       "      <td>0.0</td>\n",
       "      <td>0.0</td>\n",
       "      <td>0.0</td>\n",
       "      <td>1.0</td>\n",
       "    </tr>\n",
       "  </tbody>\n",
       "</table>\n",
       "</div>"
      ],
      "text/plain": [
       "   label  current_popularity  temperature  precipitation  windspeed  hour  \\\n",
       "0    1.0                43.0        62.06            0.0      20.35    18   \n",
       "\n",
       "     0    1    2    3    4    5    6  \n",
       "0  0.0  0.0  0.0  0.0  0.0  0.0  1.0  "
      ]
     },
     "execution_count": 25,
     "metadata": {},
     "output_type": "execute_result"
    }
   ],
   "source": [
    "df_m = df_m[['label', 'current_popularity', 'temperature', 'precipitation', 'windspeed', 'hour', 0,1,2,3,4,5,6]]\n",
    "df_m.head(1)"
   ]
  },
  {
   "cell_type": "code",
   "execution_count": 26,
   "metadata": {},
   "outputs": [
    {
     "name": "stdout",
     "output_type": "stream",
     "text": [
      "(251, 13)\n",
      "(128, 13)\n"
     ]
    }
   ],
   "source": [
    "print(df_m.shape)\n",
    "df_m = df_m.dropna()\n",
    "print(df_m.shape)"
   ]
  },
  {
   "cell_type": "code",
   "execution_count": 27,
   "metadata": {},
   "outputs": [
    {
     "name": "stdout",
     "output_type": "stream",
     "text": [
      "accuracy: 81.25\n",
      "\n",
      "ClassificationReport\n",
      "              precision    recall  f1-score   support\n",
      "\n",
      "         0.0       0.78      1.00      0.88        21\n",
      "         1.0       1.00      0.45      0.62        11\n",
      "\n",
      "    accuracy                           0.81        32\n",
      "   macro avg       0.89      0.73      0.75        32\n",
      "weighted avg       0.85      0.81      0.79        32\n",
      "\n",
      "\n",
      "Confusion Matrix\n"
     ]
    },
    {
     "name": "stderr",
     "output_type": "stream",
     "text": [
      "/Users/isaurr/src/social_distancing/cleaning/env_sd/lib/python3.7/site-packages/sklearn/linear_model/_logistic.py:940: ConvergenceWarning: lbfgs failed to converge (status=1):\n",
      "STOP: TOTAL NO. of ITERATIONS REACHED LIMIT.\n",
      "\n",
      "Increase the number of iterations (max_iter) or scale the data as shown in:\n",
      "    https://scikit-learn.org/stable/modules/preprocessing.html\n",
      "Please also refer to the documentation for alternative solver options:\n",
      "    https://scikit-learn.org/stable/modules/linear_model.html#logistic-regression\n",
      "  extra_warning_msg=_LOGISTIC_SOLVER_CONVERGENCE_MSG)\n"
     ]
    }
   ],
   "source": [
    "x = df_m.drop('label',axis = 1)\n",
    "y = df_m['label']\n",
    "\n",
    "# Split data\n",
    "x_train, x_test, y_train, y_test = train_test_split(x, y, test_size = 0.25, random_state=4)\n",
    "\n",
    "# Create model\n",
    "clf = LogisticRegression(random_state=0).fit(x_train, y_train)\n",
    "\n",
    "\n",
    "y_pred = clf.predict(x_test)\n",
    "accuracy = metrics.accuracy_score(y_test, y_pred)\n",
    "accuracy_percentage = 100 * accuracy\n",
    "\n",
    "print(\"accuracy:\", accuracy_percentage)\n",
    "print(\"\\nClassificationReport\")\n",
    "print(classification_report(y_test, y_pred))\n",
    "print(\"\\nConfusion Matrix\")\n",
    "\n",
    "# cm = confusion_matrix(y.tolist(), y_pred.tolist())\n",
    "\n",
    "# fig, ax = plt.subplots(figsize=(8, 8))\n",
    "# ax.imshow(cm)\n",
    "# ax.grid(False)\n",
    "# ax.xaxis.set(ticks=(0, 1), ticklabels=('Predicted 0s', 'Predicted 1s'))\n",
    "# ax.yaxis.set(ticks=(0, 1), ticklabels=('Actual 0s', 'Actual 1s'))\n",
    "# ax.set_ylim(1.5, -0.5)\n",
    "# for i in range(2):\n",
    "#     for j in range(2):\n",
    "#         ax.text(j, i, cm[i, j], ha='center', va='center', color='red')\n",
    "# plt.show()\n",
    "\n",
    "# print(confusion_matrix)\n"
   ]
  },
  {
   "cell_type": "code",
   "execution_count": 28,
   "metadata": {},
   "outputs": [
    {
     "data": {
      "image/png": "[encoded data removed]",
      "text/plain": [
       "<Figure size 576x396 with 1 Axes>"
      ]
     },
     "metadata": {},
     "output_type": "display_data"
    }
   ],
   "source": [
    "from sklearn.metrics import roc_auc_score\n",
    "from sklearn.metrics import roc_curve\n",
    "\n",
    "logit_roc_auc = roc_auc_score(y_test, clf.predict(x_test))\n",
    "fpr, tpr, thresholds = roc_curve(y_test, clf.predict_proba(x_test)[:,1])\n",
    "plt.figure()\n",
    "plt.plot(fpr, tpr, label='Logistic Regression (area = %0.2f)' % logit_roc_auc)\n",
    "plt.plot([0, 1], [0, 1],'r--')\n",
    "plt.xlim([0.0, 1.0])\n",
    "plt.ylim([0.0, 1.05])\n",
    "plt.xlabel('False Positive Rate')\n",
    "plt.ylabel('True Positive Rate')\n",
    "plt.title('Receiver operating characteristic')\n",
    "plt.legend(loc=\"lower right\")\n",
    "plt.savefig('Log_ROC')\n",
    "plt.show()"
   ]
  },
  {
   "cell_type": "markdown",
   "metadata": {},
   "source": [
    "ROC could be better, but not too bad for a first pass."
   ]
  },
  {
   "cell_type": "markdown",
   "metadata": {},
   "source": [
    "# Imputing data\n",
    "\n",
    "Trying out a few different things to see how these strategies change data."
   ]
  },
  {
   "cell_type": "code",
   "execution_count": 29,
   "metadata": {},
   "outputs": [
    {
     "data": {
      "text/plain": [
       "(325, 16)"
      ]
     },
     "execution_count": 29,
     "metadata": {},
     "output_type": "execute_result"
    }
   ],
   "source": [
    "df_full.shape"
   ]
  },
  {
   "cell_type": "code",
   "execution_count": 30,
   "metadata": {},
   "outputs": [
    {
     "name": "stdout",
     "output_type": "stream",
     "text": [
      "before: object\n",
      "after: datetime64[ns]\n",
      "(1962, 16)\n"
     ]
    },
    {
     "data": {
      "text/html": [
       "<div>\n",
       "<style scoped>\n",
       "    .dataframe tbody tr th:only-of-type {\n",
       "        vertical-align: middle;\n",
       "    }\n",
       "\n",
       "    .dataframe tbody tr th {\n",
       "        vertical-align: top;\n",
       "    }\n",
       "\n",
       "    .dataframe thead th {\n",
       "        text-align: right;\n",
       "    }\n",
       "</style>\n",
       "<table border=\"1\" class=\"dataframe\">\n",
       "  <thead>\n",
       "    <tr style=\"text-align: right;\">\n",
       "      <th></th>\n",
       "      <th>time_bin</th>\n",
       "      <th>label</th>\n",
       "      <th>Unnamed: 0</th>\n",
       "      <th>current_popularity</th>\n",
       "      <th>datetime</th>\n",
       "      <th>time</th>\n",
       "      <th>temperature</th>\n",
       "      <th>dewpoint</th>\n",
       "      <th>humidity</th>\n",
       "      <th>precipitation</th>\n",
       "      <th>windspeed</th>\n",
       "      <th>winddirection</th>\n",
       "      <th>pressure</th>\n",
       "      <th>source</th>\n",
       "      <th>day_name</th>\n",
       "      <th>hour</th>\n",
       "    </tr>\n",
       "  </thead>\n",
       "  <tbody>\n",
       "    <tr>\n",
       "      <th>1957</th>\n",
       "      <td>2020-04-23 19:50:00</td>\n",
       "      <td>NaN</td>\n",
       "      <td>NaN</td>\n",
       "      <td>NaN</td>\n",
       "      <td>NaN</td>\n",
       "      <td>NaN</td>\n",
       "      <td>NaN</td>\n",
       "      <td>NaN</td>\n",
       "      <td>NaN</td>\n",
       "      <td>NaN</td>\n",
       "      <td>NaN</td>\n",
       "      <td>NaN</td>\n",
       "      <td>NaN</td>\n",
       "      <td>NaN</td>\n",
       "      <td>NaN</td>\n",
       "      <td>NaN</td>\n",
       "    </tr>\n",
       "    <tr>\n",
       "      <th>1958</th>\n",
       "      <td>2020-04-23 20:05:00</td>\n",
       "      <td>NaN</td>\n",
       "      <td>NaN</td>\n",
       "      <td>NaN</td>\n",
       "      <td>NaN</td>\n",
       "      <td>NaN</td>\n",
       "      <td>NaN</td>\n",
       "      <td>NaN</td>\n",
       "      <td>NaN</td>\n",
       "      <td>NaN</td>\n",
       "      <td>NaN</td>\n",
       "      <td>NaN</td>\n",
       "      <td>NaN</td>\n",
       "      <td>NaN</td>\n",
       "      <td>NaN</td>\n",
       "      <td>NaN</td>\n",
       "    </tr>\n",
       "    <tr>\n",
       "      <th>1959</th>\n",
       "      <td>2020-04-23 20:20:00</td>\n",
       "      <td>NaN</td>\n",
       "      <td>NaN</td>\n",
       "      <td>NaN</td>\n",
       "      <td>NaN</td>\n",
       "      <td>NaN</td>\n",
       "      <td>NaN</td>\n",
       "      <td>NaN</td>\n",
       "      <td>NaN</td>\n",
       "      <td>NaN</td>\n",
       "      <td>NaN</td>\n",
       "      <td>NaN</td>\n",
       "      <td>NaN</td>\n",
       "      <td>NaN</td>\n",
       "      <td>NaN</td>\n",
       "      <td>NaN</td>\n",
       "    </tr>\n",
       "    <tr>\n",
       "      <th>1960</th>\n",
       "      <td>2020-04-23 20:35:00</td>\n",
       "      <td>NaN</td>\n",
       "      <td>NaN</td>\n",
       "      <td>NaN</td>\n",
       "      <td>NaN</td>\n",
       "      <td>NaN</td>\n",
       "      <td>NaN</td>\n",
       "      <td>NaN</td>\n",
       "      <td>NaN</td>\n",
       "      <td>NaN</td>\n",
       "      <td>NaN</td>\n",
       "      <td>NaN</td>\n",
       "      <td>NaN</td>\n",
       "      <td>NaN</td>\n",
       "      <td>NaN</td>\n",
       "      <td>NaN</td>\n",
       "    </tr>\n",
       "    <tr>\n",
       "      <th>1961</th>\n",
       "      <td>2020-04-23 20:50:00</td>\n",
       "      <td>NaN</td>\n",
       "      <td>NaN</td>\n",
       "      <td>NaN</td>\n",
       "      <td>NaN</td>\n",
       "      <td>NaN</td>\n",
       "      <td>NaN</td>\n",
       "      <td>NaN</td>\n",
       "      <td>NaN</td>\n",
       "      <td>NaN</td>\n",
       "      <td>NaN</td>\n",
       "      <td>NaN</td>\n",
       "      <td>NaN</td>\n",
       "      <td>NaN</td>\n",
       "      <td>NaN</td>\n",
       "      <td>NaN</td>\n",
       "    </tr>\n",
       "  </tbody>\n",
       "</table>\n",
       "</div>"
      ],
      "text/plain": [
       "                time_bin  label  Unnamed: 0  current_popularity datetime time  \\\n",
       "1957 2020-04-23 19:50:00    NaN         NaN                 NaN      NaN  NaN   \n",
       "1958 2020-04-23 20:05:00    NaN         NaN                 NaN      NaN  NaN   \n",
       "1959 2020-04-23 20:20:00    NaN         NaN                 NaN      NaN  NaN   \n",
       "1960 2020-04-23 20:35:00    NaN         NaN                 NaN      NaN  NaN   \n",
       "1961 2020-04-23 20:50:00    NaN         NaN                 NaN      NaN  NaN   \n",
       "\n",
       "      temperature  dewpoint  humidity  precipitation  windspeed  \\\n",
       "1957          NaN       NaN       NaN            NaN        NaN   \n",
       "1958          NaN       NaN       NaN            NaN        NaN   \n",
       "1959          NaN       NaN       NaN            NaN        NaN   \n",
       "1960          NaN       NaN       NaN            NaN        NaN   \n",
       "1961          NaN       NaN       NaN            NaN        NaN   \n",
       "\n",
       "      winddirection  pressure source day_name  hour  \n",
       "1957            NaN       NaN    NaN      NaN   NaN  \n",
       "1958            NaN       NaN    NaN      NaN   NaN  \n",
       "1959            NaN       NaN    NaN      NaN   NaN  \n",
       "1960            NaN       NaN    NaN      NaN   NaN  \n",
       "1961            NaN       NaN    NaN      NaN   NaN  "
      ]
     },
     "execution_count": 30,
     "metadata": {},
     "output_type": "execute_result"
    }
   ],
   "source": [
    "# We want to create time_bins for all valid day/times (not only those with labels)\n",
    "# These time bins will be populated with imputed data\n",
    "\n",
    "# end_date is specified at the head of the notebook\n",
    "\n",
    "all_tb = (pd.DataFrame(columns=['NULL'],\n",
    "                  index=pd.date_range('2020-03-23 00:05:00', end_date,\n",
    "                                      freq='15T'))\n",
    "       .between_time('07:00','21:00')\n",
    "       .index.strftime('%Y-%m-%dT%H:%M:%S')\n",
    "       .tolist()\n",
    ")\n",
    "\n",
    "\n",
    "# This is silly: TODO: fix this part, is uneccessary!\n",
    "all_tb = [all_tb[i][:10] + \" \" + all_tb[i][11:] for i in range(len(all_tb))]\n",
    "\n",
    "# All time bins:\n",
    "all_tb[0:5]\n",
    "\n",
    "# # Create dataframe\n",
    "\n",
    "df_tb = pd.DataFrame(all_tb)\n",
    "df_tb = df_tb.rename(columns={0:'time_bin'})\n",
    "fix_time_format(df_tb)\n",
    "df_tb\n",
    "\n",
    "# # Full join on time_bin labels:\n",
    "df_tb = pd.merge(df_full, df_tb, on='time_bin', how='outer')\n",
    "print(df_tb.shape)\n",
    "df_tb.tail()"
   ]
  },
  {
   "cell_type": "markdown",
   "metadata": {},
   "source": [
    "Using naive strategies to impute data:"
   ]
  },
  {
   "cell_type": "code",
   "execution_count": 31,
   "metadata": {},
   "outputs": [],
   "source": [
    "def copy_and_concat(df, src, n, n_adj):\n",
    "    \"\"\"\n",
    "    source_val - source column label\n",
    "    n - number of times to duplicate\n",
    "    n_adj - how many times to duplicate label in adjacent time_bins \n",
    "    \n",
    "    Returns a copy of df where rows with df.source == src are copied n/n_adj times.\n",
    "    \"\"\"\n",
    "    # Copy of df rows from source = src\n",
    "    df_src = df[df.source == src]\n",
    "    \n",
    "    # Create copy of rows, assign to previous time bin (-15 mins)\n",
    "    df_before = df_src[df_src.source == src]\n",
    "    df_before['time_bin'] = df_before['time_bin'] - timedelta(seconds=900)\n",
    "    \n",
    "    # Create copy of rows, assign to next time bin (+15 mins)\n",
    "    df_after= df_src[df_src.source == src]\n",
    "    df_before['time_bin'] = df_before['time_bin'] + timedelta(seconds=900)\n",
    "    \n",
    "\n",
    "    df_return = df_src.copy()\n",
    "    for i in range(n):\n",
    "        df_return = pd.concat([df_return, df_src], ignore_index=True)\n",
    "        \n",
    "    for i in range(n_adj):\n",
    "        df_return = pd.concat([df_return, df_after], ignore_index=True)\n",
    "        df_return = pd.concat([df_return, df_before], ignore_index=True)\n",
    "    \n",
    "    return df_return"
   ]
  },
  {
   "cell_type": "code",
   "execution_count": 32,
   "metadata": {},
   "outputs": [
    {
     "name": "stdout",
     "output_type": "stream",
     "text": [
      "Before copying: (1962, 16)\n",
      "We add copies of source == mt, (1508, 16) .\n",
      "After adding: (3470, 16)\n",
      "We add copies of source == i, (756, 16) .\n",
      "After adding: (4226, 16)\n",
      "We add copies of source == h, (756, 16) .\n",
      "After adding: (4982, 16)\n",
      "We add copies of source == tw, (756, 16) .\n",
      "After adding: (5187, 16)\n",
      "(5187, 16)\n"
     ]
    },
    {
     "data": {
      "text/html": [
       "<div>\n",
       "<style scoped>\n",
       "    .dataframe tbody tr th:only-of-type {\n",
       "        vertical-align: middle;\n",
       "    }\n",
       "\n",
       "    .dataframe tbody tr th {\n",
       "        vertical-align: top;\n",
       "    }\n",
       "\n",
       "    .dataframe thead th {\n",
       "        text-align: right;\n",
       "    }\n",
       "</style>\n",
       "<table border=\"1\" class=\"dataframe\">\n",
       "  <thead>\n",
       "    <tr style=\"text-align: right;\">\n",
       "      <th></th>\n",
       "      <th>time_bin</th>\n",
       "      <th>label</th>\n",
       "      <th>Unnamed: 0</th>\n",
       "      <th>current_popularity</th>\n",
       "      <th>datetime</th>\n",
       "      <th>time</th>\n",
       "      <th>temperature</th>\n",
       "      <th>dewpoint</th>\n",
       "      <th>humidity</th>\n",
       "      <th>precipitation</th>\n",
       "      <th>windspeed</th>\n",
       "      <th>winddirection</th>\n",
       "      <th>pressure</th>\n",
       "      <th>source</th>\n",
       "      <th>day_name</th>\n",
       "      <th>hour</th>\n",
       "    </tr>\n",
       "  </thead>\n",
       "  <tbody>\n",
       "    <tr>\n",
       "      <th>0</th>\n",
       "      <td>2020-04-08 18:20:00</td>\n",
       "      <td>1.0</td>\n",
       "      <td>579.0</td>\n",
       "      <td>43.0</td>\n",
       "      <td>4/8/2020 18:24</td>\n",
       "      <td>NaN</td>\n",
       "      <td>62.06</td>\n",
       "      <td>9.4</td>\n",
       "      <td>62.0</td>\n",
       "      <td>0.0</td>\n",
       "      <td>20.35</td>\n",
       "      <td>345.0</td>\n",
       "      <td>1001.25</td>\n",
       "      <td>mt</td>\n",
       "      <td>Wednesday</td>\n",
       "      <td>18.0</td>\n",
       "    </tr>\n",
       "  </tbody>\n",
       "</table>\n",
       "</div>"
      ],
      "text/plain": [
       "             time_bin  label  Unnamed: 0  current_popularity        datetime  \\\n",
       "0 2020-04-08 18:20:00    1.0       579.0                43.0  4/8/2020 18:24   \n",
       "\n",
       "  time  temperature  dewpoint  humidity  precipitation  windspeed  \\\n",
       "0  NaN        62.06       9.4      62.0            0.0      20.35   \n",
       "\n",
       "   winddirection  pressure source   day_name  hour  \n",
       "0          345.0   1001.25     mt  Wednesday  18.0  "
      ]
     },
     "execution_count": 32,
     "metadata": {},
     "output_type": "execute_result"
    }
   ],
   "source": [
    "print(\"Before copying:\", df_tb.shape)\n",
    "\n",
    "df_mt = copy_and_concat(df_tb, 'mt', 6, 3)\n",
    "df_new = pd.concat([df_tb, df_mt], ignore_index=True)\n",
    "print(\"We add copies of source == mt,\", df_mt.shape, \".\\nAfter adding:\", df_new.shape )\n",
    "\n",
    "df_i = copy_and_concat(df_tb, 'i', 4, 2)\n",
    "df_new = pd.concat([df_new, df_i], ignore_index=True)\n",
    "print(\"We add copies of source == i,\", df_i.shape, \".\\nAfter adding:\", df_new.shape )\n",
    "\n",
    "df_h = copy_and_concat(df_tb, 'h', 4, 2)\n",
    "df_new = pd.concat([df_new, df_i], ignore_index=True)\n",
    "print(\"We add copies of source == h,\", df_h.shape, \".\\nAfter adding:\", df_new.shape )\n",
    "\n",
    "df_tw = copy_and_concat(df_tb, 'tw', 2, 1)\n",
    "df_new = pd.concat([df_new, df_tw], ignore_index=True)\n",
    "print(\"We add copies of source == tw,\", df_h.shape, \".\\nAfter adding:\", df_new.shape )\n",
    "\n",
    "# We check how many time bins with no datapoints we have left:\n",
    "df_for_counting = df_new.copy()\n",
    "print(df_for_counting.shape)\n",
    "df_for_counting.head(1)\n"
   ]
  },
  {
   "cell_type": "code",
   "execution_count": 49,
   "metadata": {},
   "outputs": [
    {
     "name": "stdout",
     "output_type": "stream",
     "text": [
      "Before dropping we have (5187, 16) observations left.\n",
      "NaN    1656\n",
      "1.0    1433\n",
      "0.0    1149\n",
      "2.0     949\n",
      "Name: label, dtype: int64\n",
      "1.0    1433\n",
      "0.0    1149\n",
      "2.0     949\n",
      "Name: label, dtype: int64\n",
      "float64\n",
      "Index(['time_bin', 'label', 'Unnamed: 0', 'current_popularity', 'datetime',\n",
      "       'time', 'temperature', 'dewpoint', 'humidity', 'precipitation',\n",
      "       'windspeed', 'winddirection', 'pressure', 'source', 'day_name', 'hour'],\n",
      "      dtype='object')\n",
      "1.0    1433\n",
      "0.0    1149\n",
      "Name: label, dtype: int64\n",
      "Index(['time_bin', 'label', 'current_popularity', 'temperature', 'humidity',\n",
      "       'precipitation', 'windspeed', 'day_name', 'source', 'hour'],\n",
      "      dtype='object')\n",
      "After dropping we have (2582, 10) observations left.\n",
      "# of unlabeled time_bins is -9 <- something is weird here, Check!\n"
     ]
    }
   ],
   "source": [
    "def checking_nonna(df):\n",
    "    print(\"Before dropping we have\", df.shape, \"observations left.\")\n",
    "    print(df['label'].value_counts(dropna=False))\n",
    "    df = df[df['label'].notna()]\n",
    "    print(df['label'].value_counts(dropna=False))\n",
    "    print(df['label'].dtypes)\n",
    "    print(df.columns)\n",
    "    df = df[['time_bin', 'label', 'current_popularity',\n",
    "           'temperature', 'humidity', 'precipitation',\n",
    "           'windspeed', 'day_name', 'source', 'hour']]\n",
    "    df = df[df['label']!=2]\n",
    "    print(df['label'].value_counts(dropna=False))\n",
    "    print(df.columns)\n",
    "    print(\"After dropping we have\", df.shape, \"observations left.\")\n",
    "\n",
    "checking_nonna(df_for_counting)\n",
    "df_for_counting['time_bin'].value_counts()\n",
    "\n",
    "print(\"# of unlabeled time_bins is\", len(all_tb)-df_for_counting['time_bin'].nunique(), \"<- something is weird here, Check!\")"
   ]
  },
  {
   "cell_type": "code",
   "execution_count": 47,
   "metadata": {},
   "outputs": [
    {
     "data": {
      "text/plain": [
       "1801"
      ]
     },
     "execution_count": 47,
     "metadata": {},
     "output_type": "execute_result"
    }
   ],
   "source": [
    "df_for_counting['time_bin'].nunique()"
   ]
  },
  {
   "cell_type": "code",
   "execution_count": null,
   "metadata": {},
   "outputs": [],
   "source": []
  },
  {
   "cell_type": "code",
   "execution_count": null,
   "metadata": {},
   "outputs": [],
   "source": []
  },
  {
   "cell_type": "code",
   "execution_count": null,
   "metadata": {},
   "outputs": [],
   "source": []
  },
  {
   "cell_type": "code",
   "execution_count": null,
   "metadata": {},
   "outputs": [],
   "source": []
  },
  {
   "cell_type": "code",
   "execution_count": null,
   "metadata": {},
   "outputs": [],
   "source": []
  },
  {
   "cell_type": "code",
   "execution_count": null,
   "metadata": {},
   "outputs": [],
   "source": []
  },
  {
   "cell_type": "code",
   "execution_count": null,
   "metadata": {},
   "outputs": [],
   "source": []
  },
  {
   "cell_type": "code",
   "execution_count": null,
   "metadata": {},
   "outputs": [],
   "source": []
  },
  {
   "cell_type": "code",
   "execution_count": null,
   "metadata": {},
   "outputs": [],
   "source": []
  },
  {
   "cell_type": "code",
   "execution_count": null,
   "metadata": {},
   "outputs": [],
   "source": []
  }
 ],
 "metadata": {
  "kernelspec": {
   "display_name": "ker_sd",
   "language": "python",
   "name": "ker_sd"
  },
  "language_info": {
   "codemirror_mode": {
    "name": "ipython",
    "version": 3
   },
   "file_extension": ".py",
   "mimetype": "text/x-python",
   "name": "python",
   "nbconvert_exporter": "python",
   "pygments_lexer": "ipython3",
   "version": "3.7.4"
  }
 },
 "nbformat": 4,
 "nbformat_minor": 4
}
