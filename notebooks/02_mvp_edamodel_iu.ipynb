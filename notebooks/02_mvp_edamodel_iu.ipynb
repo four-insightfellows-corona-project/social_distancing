{
 "cells": [
  {
   "cell_type": "code",
   "execution_count": 15,
   "metadata": {},
   "outputs": [],
   "source": [
    "import os\n",
    "import pandas as pd\n",
    "import numpy as np\n",
    "from datetime import datetime\n",
    "from datetime import timedelta \n",
    "import seaborn as sns\n",
    "import re \n",
    "from pandas_profiling import ProfileReport\n",
    "from sklearn.preprocessing import OneHotEncoder, LabelEncoder\n",
    "import sklearn\n",
    "\n",
    "import matplotlib.pyplot as plt"
   ]
  },
  {
   "cell_type": "code",
   "execution_count": 9,
   "metadata": {},
   "outputs": [
    {
     "data": {
      "text/plain": [
       "time_bin               object\n",
       "label                 float64\n",
       "source                 object\n",
       "current_popularity    float64\n",
       "wind_speed            float64\n",
       "temp                  float64\n",
       "status_good           float64\n",
       "status_maybe          float64\n",
       "status_bad            float64\n",
       "dayofweek               int64\n",
       "hour                    int64\n",
       "dtype: object"
      ]
     },
     "execution_count": 9,
     "metadata": {},
     "output_type": "execute_result"
    }
   ],
   "source": [
    "path = 'alldata/df_mvp.csv'\n",
    "data = pd.read_csv(path)\n",
    "data.dtypes"
   ]
  },
  {
   "cell_type": "code",
   "execution_count": 10,
   "metadata": {},
   "outputs": [
    {
     "data": {
      "text/html": [
       "<div>\n",
       "<style scoped>\n",
       "    .dataframe tbody tr th:only-of-type {\n",
       "        vertical-align: middle;\n",
       "    }\n",
       "\n",
       "    .dataframe tbody tr th {\n",
       "        vertical-align: top;\n",
       "    }\n",
       "\n",
       "    .dataframe thead th {\n",
       "        text-align: right;\n",
       "    }\n",
       "</style>\n",
       "<table border=\"1\" class=\"dataframe\">\n",
       "  <thead>\n",
       "    <tr style=\"text-align: right;\">\n",
       "      <th></th>\n",
       "      <th>time_bin</th>\n",
       "      <th>label</th>\n",
       "      <th>source</th>\n",
       "      <th>current_popularity</th>\n",
       "      <th>wind_speed</th>\n",
       "      <th>temp</th>\n",
       "      <th>status_good</th>\n",
       "      <th>status_maybe</th>\n",
       "      <th>status_bad</th>\n",
       "      <th>dayofweek</th>\n",
       "      <th>hour</th>\n",
       "      <th>day_name</th>\n",
       "    </tr>\n",
       "  </thead>\n",
       "  <tbody>\n",
       "    <tr>\n",
       "      <th>0</th>\n",
       "      <td>2020-03-23 14:35:00</td>\n",
       "      <td>0.0</td>\n",
       "      <td>mis/imp</td>\n",
       "      <td>42.0</td>\n",
       "      <td>26.598094</td>\n",
       "      <td>37.846753</td>\n",
       "      <td>0.0</td>\n",
       "      <td>0.0</td>\n",
       "      <td>1.0</td>\n",
       "      <td>0</td>\n",
       "      <td>14</td>\n",
       "      <td>Monday</td>\n",
       "    </tr>\n",
       "    <tr>\n",
       "      <th>1</th>\n",
       "      <td>2020-03-23 14:50:00</td>\n",
       "      <td>0.0</td>\n",
       "      <td>obs</td>\n",
       "      <td>42.0</td>\n",
       "      <td>25.900000</td>\n",
       "      <td>37.940000</td>\n",
       "      <td>0.0</td>\n",
       "      <td>0.0</td>\n",
       "      <td>1.0</td>\n",
       "      <td>0</td>\n",
       "      <td>14</td>\n",
       "      <td>Monday</td>\n",
       "    </tr>\n",
       "    <tr>\n",
       "      <th>2</th>\n",
       "      <td>2020-03-23 15:05:00</td>\n",
       "      <td>0.0</td>\n",
       "      <td>mis/imp</td>\n",
       "      <td>43.0</td>\n",
       "      <td>26.427817</td>\n",
       "      <td>38.125302</td>\n",
       "      <td>0.0</td>\n",
       "      <td>0.0</td>\n",
       "      <td>1.0</td>\n",
       "      <td>0</td>\n",
       "      <td>15</td>\n",
       "      <td>Monday</td>\n",
       "    </tr>\n",
       "    <tr>\n",
       "      <th>3</th>\n",
       "      <td>2020-03-23 15:20:00</td>\n",
       "      <td>0.0</td>\n",
       "      <td>mis/imp</td>\n",
       "      <td>43.0</td>\n",
       "      <td>28.181545</td>\n",
       "      <td>38.402658</td>\n",
       "      <td>0.0</td>\n",
       "      <td>0.0</td>\n",
       "      <td>1.0</td>\n",
       "      <td>0</td>\n",
       "      <td>15</td>\n",
       "      <td>Monday</td>\n",
       "    </tr>\n",
       "    <tr>\n",
       "      <th>4</th>\n",
       "      <td>2020-03-25 12:50:00</td>\n",
       "      <td>0.0</td>\n",
       "      <td>mis/imp</td>\n",
       "      <td>31.0</td>\n",
       "      <td>18.400000</td>\n",
       "      <td>42.080000</td>\n",
       "      <td>1.0</td>\n",
       "      <td>0.0</td>\n",
       "      <td>0.0</td>\n",
       "      <td>2</td>\n",
       "      <td>12</td>\n",
       "      <td>Wednesday</td>\n",
       "    </tr>\n",
       "  </tbody>\n",
       "</table>\n",
       "</div>"
      ],
      "text/plain": [
       "              time_bin  label   source  current_popularity  wind_speed  \\\n",
       "0  2020-03-23 14:35:00    0.0  mis/imp                42.0   26.598094   \n",
       "1  2020-03-23 14:50:00    0.0      obs                42.0   25.900000   \n",
       "2  2020-03-23 15:05:00    0.0  mis/imp                43.0   26.427817   \n",
       "3  2020-03-23 15:20:00    0.0  mis/imp                43.0   28.181545   \n",
       "4  2020-03-25 12:50:00    0.0  mis/imp                31.0   18.400000   \n",
       "\n",
       "        temp  status_good  status_maybe  status_bad  dayofweek  hour  \\\n",
       "0  37.846753          0.0           0.0         1.0          0    14   \n",
       "1  37.940000          0.0           0.0         1.0          0    14   \n",
       "2  38.125302          0.0           0.0         1.0          0    15   \n",
       "3  38.402658          0.0           0.0         1.0          0    15   \n",
       "4  42.080000          1.0           0.0         0.0          2    12   \n",
       "\n",
       "    day_name  \n",
       "0     Monday  \n",
       "1     Monday  \n",
       "2     Monday  \n",
       "3     Monday  \n",
       "4  Wednesday  "
      ]
     },
     "execution_count": 10,
     "metadata": {},
     "output_type": "execute_result"
    }
   ],
   "source": [
    "# Add a column for day of the week:\n",
    "data['day_name'] = pd.to_datetime(data['time_bin']).dt.day_name()\n",
    "data.head()"
   ]
  },
  {
   "cell_type": "code",
   "execution_count": 22,
   "metadata": {},
   "outputs": [
    {
     "name": "stdout",
     "output_type": "stream",
     "text": [
      "One hot encoding mapping: {'Friday': 0, 'Monday': 1, 'Saturday': 2, 'Sunday': 3, 'Thursday': 4, 'Tuesday': 5, 'Wednesday': 6}\n"
     ]
    },
    {
     "name": "stderr",
     "output_type": "stream",
     "text": [
      "/Users/isaurr/src/social_distancing/cleaning/env_sd/lib/python3.7/site-packages/sklearn/preprocessing/_label.py:251: DataConversionWarning: A column-vector y was passed when a 1d array was expected. Please change the shape of y to (n_samples, ), for example using ravel().\n",
      "  y = column_or_1d(y, warn=True)\n"
     ]
    },
    {
     "data": {
      "text/html": [
       "<div>\n",
       "<style scoped>\n",
       "    .dataframe tbody tr th:only-of-type {\n",
       "        vertical-align: middle;\n",
       "    }\n",
       "\n",
       "    .dataframe tbody tr th {\n",
       "        vertical-align: top;\n",
       "    }\n",
       "\n",
       "    .dataframe thead th {\n",
       "        text-align: right;\n",
       "    }\n",
       "</style>\n",
       "<table border=\"1\" class=\"dataframe\">\n",
       "  <thead>\n",
       "    <tr style=\"text-align: right;\">\n",
       "      <th></th>\n",
       "      <th>time_bin</th>\n",
       "      <th>label</th>\n",
       "      <th>source</th>\n",
       "      <th>current_popularity</th>\n",
       "      <th>wind_speed</th>\n",
       "      <th>temp</th>\n",
       "      <th>status_good</th>\n",
       "      <th>status_maybe</th>\n",
       "      <th>status_bad</th>\n",
       "      <th>dayofweek</th>\n",
       "      <th>hour</th>\n",
       "      <th>day_name</th>\n",
       "      <th>0</th>\n",
       "      <th>1</th>\n",
       "      <th>2</th>\n",
       "      <th>3</th>\n",
       "      <th>4</th>\n",
       "      <th>5</th>\n",
       "      <th>6</th>\n",
       "    </tr>\n",
       "  </thead>\n",
       "  <tbody>\n",
       "    <tr>\n",
       "      <th>0</th>\n",
       "      <td>2020-03-23 14:35:00</td>\n",
       "      <td>0.0</td>\n",
       "      <td>mis/imp</td>\n",
       "      <td>42.0</td>\n",
       "      <td>26.598094</td>\n",
       "      <td>37.846753</td>\n",
       "      <td>0.0</td>\n",
       "      <td>0.0</td>\n",
       "      <td>1.0</td>\n",
       "      <td>0</td>\n",
       "      <td>14</td>\n",
       "      <td>Monday</td>\n",
       "      <td>0.0</td>\n",
       "      <td>1.0</td>\n",
       "      <td>0.0</td>\n",
       "      <td>0.0</td>\n",
       "      <td>0.0</td>\n",
       "      <td>0.0</td>\n",
       "      <td>0.0</td>\n",
       "    </tr>\n",
       "  </tbody>\n",
       "</table>\n",
       "</div>"
      ],
      "text/plain": [
       "              time_bin  label   source  current_popularity  wind_speed  \\\n",
       "0  2020-03-23 14:35:00    0.0  mis/imp                42.0   26.598094   \n",
       "\n",
       "        temp  status_good  status_maybe  status_bad  dayofweek  hour day_name  \\\n",
       "0  37.846753          0.0           0.0         1.0          0    14   Monday   \n",
       "\n",
       "     0    1    2    3    4    5    6  \n",
       "0  0.0  1.0  0.0  0.0  0.0  0.0  0.0  "
      ]
     },
     "execution_count": 22,
     "metadata": {},
     "output_type": "execute_result"
    }
   ],
   "source": [
    "# One hot encoding for day of the week\n",
    "# creating instance of one-hot-encoder\n",
    "enc = OneHotEncoder(handle_unknown='ignore')\n",
    "\n",
    "# passing cat column (label encoded values of bridge_types)\n",
    "enc_df = pd.DataFrame(enc.fit_transform(data[['day_name']]).toarray())\n",
    "\n",
    "#\n",
    "le = LabelEncoder()\n",
    "integer_encoded = le.fit_transform(data[['day_name']])\n",
    "labels = le.classes_\n",
    "mappings = {}\n",
    "for index, label in zip(range(len(labels)), labels):\n",
    "    mappings[label]=index\n",
    "\n",
    "print(\"One hot encoding mapping:\", mappings)\n",
    "\n",
    "# merge with main df bridge_df on key values\n",
    "df_m = data.join(enc_df)\n",
    "df_m.head(1)\n"
   ]
  },
  {
   "cell_type": "code",
   "execution_count": 65,
   "metadata": {},
   "outputs": [],
   "source": [
    "## We make up some features that encode 'common sense' guesses at significant variables:\n",
    "\n",
    "\n",
    "# weekend = ['Saturday', 'Sunday']\n",
    "# long_weekend = ['Friday', 'Saturday', 'Sunday']\n",
    "df_m['weekend'] = np.where((df_m['day_name'] == 'Saturday') | (df_m['day_name'] == 'Sunday'), 1, 0)\n",
    "df_m['long_weekend'] = np.where((df_m['day_name'] == 'Saturday') | (df_m['day_name'] == 'Sunday')| (df_m['day_name'] == 'Friday'), 1, 0)\n",
    "\n",
    "\n",
    "# After work, before dark (after 5/6)\n",
    "df_m['aw_5'] = np.where((df_m['hour'] <= 20) & (df_m['hour']>=17), 1, 0)\n",
    "df_m['aw_6'] = np.where((df_m['hour'] <= 20) & (df_m['hour']>=18), 1, 0)\n",
    "\n",
    "# After work, before dark (after 5/6 on week DAYS)\n",
    "df_m['aw_5_w'] = np.where((df_m['aw_5'] == 1) & (df_m['weekend'] == 0), 1, 0)\n",
    "df_m['aw_6_w'] = np.where((df_m['aw_6'] == 1) & (df_m['weekend'] == 0), 1, 0)\n",
    "\n",
    "df_m['afternoon'] = np.where((df_m['hour']>=12) & (df_m['hour']<=17), 1, 0)\n"
   ]
  },
  {
   "cell_type": "code",
   "execution_count": 66,
   "metadata": {},
   "outputs": [
    {
     "data": {
      "text/html": [
       "<div>\n",
       "<style scoped>\n",
       "    .dataframe tbody tr th:only-of-type {\n",
       "        vertical-align: middle;\n",
       "    }\n",
       "\n",
       "    .dataframe tbody tr th {\n",
       "        vertical-align: top;\n",
       "    }\n",
       "\n",
       "    .dataframe thead th {\n",
       "        text-align: right;\n",
       "    }\n",
       "</style>\n",
       "<table border=\"1\" class=\"dataframe\">\n",
       "  <thead>\n",
       "    <tr style=\"text-align: right;\">\n",
       "      <th></th>\n",
       "      <th>time_bin</th>\n",
       "      <th>label</th>\n",
       "      <th>source</th>\n",
       "      <th>current_popularity</th>\n",
       "      <th>wind_speed</th>\n",
       "      <th>temp</th>\n",
       "      <th>status_good</th>\n",
       "      <th>status_maybe</th>\n",
       "      <th>status_bad</th>\n",
       "      <th>dayofweek</th>\n",
       "      <th>...</th>\n",
       "      <th>4</th>\n",
       "      <th>5</th>\n",
       "      <th>6</th>\n",
       "      <th>weekend</th>\n",
       "      <th>long_weekend</th>\n",
       "      <th>aw_5</th>\n",
       "      <th>aw_6</th>\n",
       "      <th>aw_5_w</th>\n",
       "      <th>aw_6_w</th>\n",
       "      <th>afternoon</th>\n",
       "    </tr>\n",
       "  </thead>\n",
       "  <tbody>\n",
       "    <tr>\n",
       "      <th>0</th>\n",
       "      <td>2020-03-23 14:35:00</td>\n",
       "      <td>0.0</td>\n",
       "      <td>mis/imp</td>\n",
       "      <td>42.0</td>\n",
       "      <td>26.598094</td>\n",
       "      <td>37.846753</td>\n",
       "      <td>0.0</td>\n",
       "      <td>0.0</td>\n",
       "      <td>1.0</td>\n",
       "      <td>0</td>\n",
       "      <td>...</td>\n",
       "      <td>0.0</td>\n",
       "      <td>0.0</td>\n",
       "      <td>0.0</td>\n",
       "      <td>0</td>\n",
       "      <td>0</td>\n",
       "      <td>0</td>\n",
       "      <td>0</td>\n",
       "      <td>0</td>\n",
       "      <td>0</td>\n",
       "      <td>1</td>\n",
       "    </tr>\n",
       "    <tr>\n",
       "      <th>1</th>\n",
       "      <td>2020-03-23 14:50:00</td>\n",
       "      <td>0.0</td>\n",
       "      <td>obs</td>\n",
       "      <td>42.0</td>\n",
       "      <td>25.900000</td>\n",
       "      <td>37.940000</td>\n",
       "      <td>0.0</td>\n",
       "      <td>0.0</td>\n",
       "      <td>1.0</td>\n",
       "      <td>0</td>\n",
       "      <td>...</td>\n",
       "      <td>0.0</td>\n",
       "      <td>0.0</td>\n",
       "      <td>0.0</td>\n",
       "      <td>0</td>\n",
       "      <td>0</td>\n",
       "      <td>0</td>\n",
       "      <td>0</td>\n",
       "      <td>0</td>\n",
       "      <td>0</td>\n",
       "      <td>1</td>\n",
       "    </tr>\n",
       "    <tr>\n",
       "      <th>2</th>\n",
       "      <td>2020-03-23 15:05:00</td>\n",
       "      <td>0.0</td>\n",
       "      <td>mis/imp</td>\n",
       "      <td>43.0</td>\n",
       "      <td>26.427817</td>\n",
       "      <td>38.125302</td>\n",
       "      <td>0.0</td>\n",
       "      <td>0.0</td>\n",
       "      <td>1.0</td>\n",
       "      <td>0</td>\n",
       "      <td>...</td>\n",
       "      <td>0.0</td>\n",
       "      <td>0.0</td>\n",
       "      <td>0.0</td>\n",
       "      <td>0</td>\n",
       "      <td>0</td>\n",
       "      <td>0</td>\n",
       "      <td>0</td>\n",
       "      <td>0</td>\n",
       "      <td>0</td>\n",
       "      <td>1</td>\n",
       "    </tr>\n",
       "    <tr>\n",
       "      <th>3</th>\n",
       "      <td>2020-03-23 15:20:00</td>\n",
       "      <td>0.0</td>\n",
       "      <td>mis/imp</td>\n",
       "      <td>43.0</td>\n",
       "      <td>28.181545</td>\n",
       "      <td>38.402658</td>\n",
       "      <td>0.0</td>\n",
       "      <td>0.0</td>\n",
       "      <td>1.0</td>\n",
       "      <td>0</td>\n",
       "      <td>...</td>\n",
       "      <td>0.0</td>\n",
       "      <td>0.0</td>\n",
       "      <td>0.0</td>\n",
       "      <td>0</td>\n",
       "      <td>0</td>\n",
       "      <td>0</td>\n",
       "      <td>0</td>\n",
       "      <td>0</td>\n",
       "      <td>0</td>\n",
       "      <td>1</td>\n",
       "    </tr>\n",
       "    <tr>\n",
       "      <th>4</th>\n",
       "      <td>2020-03-25 12:50:00</td>\n",
       "      <td>0.0</td>\n",
       "      <td>mis/imp</td>\n",
       "      <td>31.0</td>\n",
       "      <td>18.400000</td>\n",
       "      <td>42.080000</td>\n",
       "      <td>1.0</td>\n",
       "      <td>0.0</td>\n",
       "      <td>0.0</td>\n",
       "      <td>2</td>\n",
       "      <td>...</td>\n",
       "      <td>0.0</td>\n",
       "      <td>0.0</td>\n",
       "      <td>1.0</td>\n",
       "      <td>0</td>\n",
       "      <td>0</td>\n",
       "      <td>0</td>\n",
       "      <td>0</td>\n",
       "      <td>0</td>\n",
       "      <td>0</td>\n",
       "      <td>1</td>\n",
       "    </tr>\n",
       "    <tr>\n",
       "      <th>...</th>\n",
       "      <td>...</td>\n",
       "      <td>...</td>\n",
       "      <td>...</td>\n",
       "      <td>...</td>\n",
       "      <td>...</td>\n",
       "      <td>...</td>\n",
       "      <td>...</td>\n",
       "      <td>...</td>\n",
       "      <td>...</td>\n",
       "      <td>...</td>\n",
       "      <td>...</td>\n",
       "      <td>...</td>\n",
       "      <td>...</td>\n",
       "      <td>...</td>\n",
       "      <td>...</td>\n",
       "      <td>...</td>\n",
       "      <td>...</td>\n",
       "      <td>...</td>\n",
       "      <td>...</td>\n",
       "      <td>...</td>\n",
       "      <td>...</td>\n",
       "    </tr>\n",
       "    <tr>\n",
       "      <th>509</th>\n",
       "      <td>2020-04-25 17:35:00</td>\n",
       "      <td>1.0</td>\n",
       "      <td>mis/imp</td>\n",
       "      <td>117.0</td>\n",
       "      <td>3.600000</td>\n",
       "      <td>58.783333</td>\n",
       "      <td>1.0</td>\n",
       "      <td>0.0</td>\n",
       "      <td>0.0</td>\n",
       "      <td>5</td>\n",
       "      <td>...</td>\n",
       "      <td>0.0</td>\n",
       "      <td>0.0</td>\n",
       "      <td>0.0</td>\n",
       "      <td>1</td>\n",
       "      <td>1</td>\n",
       "      <td>1</td>\n",
       "      <td>0</td>\n",
       "      <td>0</td>\n",
       "      <td>0</td>\n",
       "      <td>1</td>\n",
       "    </tr>\n",
       "    <tr>\n",
       "      <th>510</th>\n",
       "      <td>2020-04-26 14:35:00</td>\n",
       "      <td>0.0</td>\n",
       "      <td>mis/imp</td>\n",
       "      <td>18.0</td>\n",
       "      <td>9.800000</td>\n",
       "      <td>47.473333</td>\n",
       "      <td>0.0</td>\n",
       "      <td>1.0</td>\n",
       "      <td>0.0</td>\n",
       "      <td>6</td>\n",
       "      <td>...</td>\n",
       "      <td>0.0</td>\n",
       "      <td>0.0</td>\n",
       "      <td>0.0</td>\n",
       "      <td>1</td>\n",
       "      <td>1</td>\n",
       "      <td>0</td>\n",
       "      <td>0</td>\n",
       "      <td>0</td>\n",
       "      <td>0</td>\n",
       "      <td>1</td>\n",
       "    </tr>\n",
       "    <tr>\n",
       "      <th>511</th>\n",
       "      <td>2020-04-26 14:50:00</td>\n",
       "      <td>0.0</td>\n",
       "      <td>obs</td>\n",
       "      <td>19.0</td>\n",
       "      <td>9.800000</td>\n",
       "      <td>47.466667</td>\n",
       "      <td>0.0</td>\n",
       "      <td>1.0</td>\n",
       "      <td>0.0</td>\n",
       "      <td>6</td>\n",
       "      <td>...</td>\n",
       "      <td>0.0</td>\n",
       "      <td>0.0</td>\n",
       "      <td>0.0</td>\n",
       "      <td>1</td>\n",
       "      <td>1</td>\n",
       "      <td>0</td>\n",
       "      <td>0</td>\n",
       "      <td>0</td>\n",
       "      <td>0</td>\n",
       "      <td>1</td>\n",
       "    </tr>\n",
       "    <tr>\n",
       "      <th>512</th>\n",
       "      <td>2020-04-26 15:05:00</td>\n",
       "      <td>0.0</td>\n",
       "      <td>mis/imp</td>\n",
       "      <td>14.0</td>\n",
       "      <td>9.800000</td>\n",
       "      <td>47.433333</td>\n",
       "      <td>0.0</td>\n",
       "      <td>1.0</td>\n",
       "      <td>0.0</td>\n",
       "      <td>6</td>\n",
       "      <td>...</td>\n",
       "      <td>0.0</td>\n",
       "      <td>0.0</td>\n",
       "      <td>0.0</td>\n",
       "      <td>1</td>\n",
       "      <td>1</td>\n",
       "      <td>0</td>\n",
       "      <td>0</td>\n",
       "      <td>0</td>\n",
       "      <td>0</td>\n",
       "      <td>1</td>\n",
       "    </tr>\n",
       "    <tr>\n",
       "      <th>513</th>\n",
       "      <td>2020-04-26 15:20:00</td>\n",
       "      <td>0.0</td>\n",
       "      <td>mis/imp</td>\n",
       "      <td>13.0</td>\n",
       "      <td>9.800000</td>\n",
       "      <td>47.446667</td>\n",
       "      <td>0.0</td>\n",
       "      <td>1.0</td>\n",
       "      <td>0.0</td>\n",
       "      <td>6</td>\n",
       "      <td>...</td>\n",
       "      <td>0.0</td>\n",
       "      <td>0.0</td>\n",
       "      <td>0.0</td>\n",
       "      <td>1</td>\n",
       "      <td>1</td>\n",
       "      <td>0</td>\n",
       "      <td>0</td>\n",
       "      <td>0</td>\n",
       "      <td>0</td>\n",
       "      <td>1</td>\n",
       "    </tr>\n",
       "  </tbody>\n",
       "</table>\n",
       "<p>514 rows × 26 columns</p>\n",
       "</div>"
      ],
      "text/plain": [
       "                time_bin  label   source  current_popularity  wind_speed  \\\n",
       "0    2020-03-23 14:35:00    0.0  mis/imp                42.0   26.598094   \n",
       "1    2020-03-23 14:50:00    0.0      obs                42.0   25.900000   \n",
       "2    2020-03-23 15:05:00    0.0  mis/imp                43.0   26.427817   \n",
       "3    2020-03-23 15:20:00    0.0  mis/imp                43.0   28.181545   \n",
       "4    2020-03-25 12:50:00    0.0  mis/imp                31.0   18.400000   \n",
       "..                   ...    ...      ...                 ...         ...   \n",
       "509  2020-04-25 17:35:00    1.0  mis/imp               117.0    3.600000   \n",
       "510  2020-04-26 14:35:00    0.0  mis/imp                18.0    9.800000   \n",
       "511  2020-04-26 14:50:00    0.0      obs                19.0    9.800000   \n",
       "512  2020-04-26 15:05:00    0.0  mis/imp                14.0    9.800000   \n",
       "513  2020-04-26 15:20:00    0.0  mis/imp                13.0    9.800000   \n",
       "\n",
       "          temp  status_good  status_maybe  status_bad  dayofweek  ...    4  \\\n",
       "0    37.846753          0.0           0.0         1.0          0  ...  0.0   \n",
       "1    37.940000          0.0           0.0         1.0          0  ...  0.0   \n",
       "2    38.125302          0.0           0.0         1.0          0  ...  0.0   \n",
       "3    38.402658          0.0           0.0         1.0          0  ...  0.0   \n",
       "4    42.080000          1.0           0.0         0.0          2  ...  0.0   \n",
       "..         ...          ...           ...         ...        ...  ...  ...   \n",
       "509  58.783333          1.0           0.0         0.0          5  ...  0.0   \n",
       "510  47.473333          0.0           1.0         0.0          6  ...  0.0   \n",
       "511  47.466667          0.0           1.0         0.0          6  ...  0.0   \n",
       "512  47.433333          0.0           1.0         0.0          6  ...  0.0   \n",
       "513  47.446667          0.0           1.0         0.0          6  ...  0.0   \n",
       "\n",
       "       5    6  weekend  long_weekend  aw_5  aw_6  aw_5_w  aw_6_w  afternoon  \n",
       "0    0.0  0.0        0             0     0     0       0       0          1  \n",
       "1    0.0  0.0        0             0     0     0       0       0          1  \n",
       "2    0.0  0.0        0             0     0     0       0       0          1  \n",
       "3    0.0  0.0        0             0     0     0       0       0          1  \n",
       "4    0.0  1.0        0             0     0     0       0       0          1  \n",
       "..   ...  ...      ...           ...   ...   ...     ...     ...        ...  \n",
       "509  0.0  0.0        1             1     1     0       0       0          1  \n",
       "510  0.0  0.0        1             1     0     0       0       0          1  \n",
       "511  0.0  0.0        1             1     0     0       0       0          1  \n",
       "512  0.0  0.0        1             1     0     0       0       0          1  \n",
       "513  0.0  0.0        1             1     0     0       0       0          1  \n",
       "\n",
       "[514 rows x 26 columns]"
      ]
     },
     "execution_count": 66,
     "metadata": {},
     "output_type": "execute_result"
    }
   ],
   "source": [
    "df_m"
   ]
  },
  {
   "cell_type": "code",
   "execution_count": 72,
   "metadata": {},
   "outputs": [
    {
     "data": {
      "image/png": "[encoded data removed]",
      "text/plain": [
       "<Figure size 576x396 with 1 Axes>"
      ]
     },
     "metadata": {},
     "output_type": "display_data"
    }
   ],
   "source": [
    "t1 = pd.crosstab(index=df_m[\"day_name\"], columns=df_m[\"label\"])\n",
    "\n",
    "t1.plot.bar(stacked=True)\n",
    "plt.legend(title='mark')\n",
    "\n",
    "plt.show()"
   ]
  },
  {
   "cell_type": "code",
   "execution_count": 69,
   "metadata": {},
   "outputs": [
    {
     "data": {
      "image/png": "[encoded data removed]",
      "text/plain": [
       "<Figure size 576x396 with 1 Axes>"
      ]
     },
     "metadata": {},
     "output_type": "display_data"
    }
   ],
   "source": [
    "t2 = pd.crosstab(index=df_m[\"hour\"], columns=df_m[\"day_name\"])\n",
    "\n",
    "t2.plot.bar(stacked=True)\n",
    "plt.legend(title='mark')\n",
    "\n",
    "plt.show()"
   ]
  },
  {
   "cell_type": "code",
   "execution_count": 70,
   "metadata": {},
   "outputs": [
    {
     "data": {
      "text/html": [
       "<div>\n",
       "<style scoped>\n",
       "    .dataframe tbody tr th:only-of-type {\n",
       "        vertical-align: middle;\n",
       "    }\n",
       "\n",
       "    .dataframe tbody tr th {\n",
       "        vertical-align: top;\n",
       "    }\n",
       "\n",
       "    .dataframe thead th {\n",
       "        text-align: right;\n",
       "    }\n",
       "</style>\n",
       "<table border=\"1\" class=\"dataframe\">\n",
       "  <thead>\n",
       "    <tr style=\"text-align: right;\">\n",
       "      <th>hour</th>\n",
       "      <th>6</th>\n",
       "      <th>7</th>\n",
       "      <th>8</th>\n",
       "      <th>9</th>\n",
       "      <th>10</th>\n",
       "      <th>11</th>\n",
       "      <th>12</th>\n",
       "      <th>13</th>\n",
       "      <th>14</th>\n",
       "      <th>15</th>\n",
       "      <th>16</th>\n",
       "      <th>17</th>\n",
       "      <th>18</th>\n",
       "      <th>19</th>\n",
       "      <th>20</th>\n",
       "    </tr>\n",
       "    <tr>\n",
       "      <th>label</th>\n",
       "      <th></th>\n",
       "      <th></th>\n",
       "      <th></th>\n",
       "      <th></th>\n",
       "      <th></th>\n",
       "      <th></th>\n",
       "      <th></th>\n",
       "      <th></th>\n",
       "      <th></th>\n",
       "      <th></th>\n",
       "      <th></th>\n",
       "      <th></th>\n",
       "      <th></th>\n",
       "      <th></th>\n",
       "      <th></th>\n",
       "    </tr>\n",
       "  </thead>\n",
       "  <tbody>\n",
       "    <tr>\n",
       "      <th>0.0</th>\n",
       "      <td>3</td>\n",
       "      <td>15</td>\n",
       "      <td>24</td>\n",
       "      <td>24</td>\n",
       "      <td>21</td>\n",
       "      <td>21</td>\n",
       "      <td>22</td>\n",
       "      <td>13</td>\n",
       "      <td>10</td>\n",
       "      <td>21</td>\n",
       "      <td>18</td>\n",
       "      <td>22</td>\n",
       "      <td>20</td>\n",
       "      <td>19</td>\n",
       "      <td>13</td>\n",
       "    </tr>\n",
       "    <tr>\n",
       "      <th>1.0</th>\n",
       "      <td>0</td>\n",
       "      <td>7</td>\n",
       "      <td>12</td>\n",
       "      <td>6</td>\n",
       "      <td>11</td>\n",
       "      <td>12</td>\n",
       "      <td>21</td>\n",
       "      <td>28</td>\n",
       "      <td>19</td>\n",
       "      <td>24</td>\n",
       "      <td>30</td>\n",
       "      <td>27</td>\n",
       "      <td>37</td>\n",
       "      <td>13</td>\n",
       "      <td>1</td>\n",
       "    </tr>\n",
       "  </tbody>\n",
       "</table>\n",
       "</div>"
      ],
      "text/plain": [
       "hour   6   7   8   9   10  11  12  13  14  15  16  17  18  19  20\n",
       "label                                                            \n",
       "0.0     3  15  24  24  21  21  22  13  10  21  18  22  20  19  13\n",
       "1.0     0   7  12   6  11  12  21  28  19  24  30  27  37  13   1"
      ]
     },
     "execution_count": 70,
     "metadata": {},
     "output_type": "execute_result"
    }
   ],
   "source": [
    "t3 = pd.crosstab(index=df_m[\"label\"], columns=df_m[\"hour\"])\n",
    "t3"
   ]
  },
  {
   "cell_type": "code",
   "execution_count": 71,
   "metadata": {},
   "outputs": [
    {
     "data": {
      "image/png": "[encoded data removed]",
      "text/plain": [
       "<Figure size 576x396 with 1 Axes>"
      ]
     },
     "metadata": {},
     "output_type": "display_data"
    }
   ],
   "source": [
    "t4 = pd.crosstab(index=df_m[\"hour\"], columns=df_m[\"label\"])\n",
    "\n",
    "t4.plot.bar(stacked=True)\n",
    "plt.legend(title='mark')\n",
    "\n",
    "plt.show()"
   ]
  },
  {
   "cell_type": "code",
   "execution_count": 158,
   "metadata": {},
   "outputs": [
    {
     "data": {
      "text/plain": [
       "Index([          'time_bin',              'label',             'source',\n",
       "       'current_popularity',         'wind_speed',               'temp',\n",
       "              'status_good',       'status_maybe',         'status_bad',\n",
       "                'dayofweek',               'hour',           'day_name',\n",
       "                          0,                    1,                    2,\n",
       "                          3,                    4,                    5,\n",
       "                          6,            'weekend',       'long_weekend',\n",
       "                     'aw_5',               'aw_6',             'aw_5_w',\n",
       "                   'aw_6_w',          'afternoon'],\n",
       "      dtype='object')"
      ]
     },
     "execution_count": 158,
     "metadata": {},
     "output_type": "execute_result"
    }
   ],
   "source": [
    "df_m.columns"
   ]
  },
  {
   "cell_type": "code",
   "execution_count": 173,
   "metadata": {},
   "outputs": [
    {
     "name": "stdout",
     "output_type": "stream",
     "text": [
      "label       0.0  1.0\n",
      "status_bad          \n",
      "0.0         214  207\n",
      "1.0          52   41\n"
     ]
    },
    {
     "data": {
      "image/png": "[encoded data removed]",
      "text/plain": [
       "<Figure size 576x396 with 1 Axes>"
      ]
     },
     "metadata": {},
     "output_type": "display_data"
    }
   ],
   "source": [
    "# Checking balance, new variables:\n",
    "\n",
    "t_status_bad = pd.crosstab(index=df_m[\"status_bad\"], columns=df_m[\"label\"])\n",
    "\n",
    "print(t_status_bad)\n",
    "t_afternoon.plot.bar(stacked=True)\n",
    "plt.legend(title='mark')\n",
    "\n",
    "plt.show()"
   ]
  },
  {
   "cell_type": "code",
   "execution_count": 172,
   "metadata": {},
   "outputs": [
    {
     "name": "stdout",
     "output_type": "stream",
     "text": [
      "label         0.0  1.0\n",
      "status_maybe          \n",
      "0.0           152  177\n",
      "1.0           114   71\n"
     ]
    },
    {
     "data": {
      "image/png": "[encoded data removed]",
      "text/plain": [
       "<Figure size 576x396 with 1 Axes>"
      ]
     },
     "metadata": {},
     "output_type": "display_data"
    }
   ],
   "source": [
    "# Checking balance, new variables:\n",
    "\n",
    "t_status_maybe = pd.crosstab(index=df_m[\"status_maybe\"], columns=df_m[\"label\"])\n",
    "\n",
    "print(t_status_maybe)\n",
    "t_afternoon.plot.bar(stacked=True)\n",
    "plt.legend(title='mark')\n",
    "\n",
    "plt.show()"
   ]
  },
  {
   "cell_type": "code",
   "execution_count": 171,
   "metadata": {},
   "outputs": [
    {
     "name": "stdout",
     "output_type": "stream",
     "text": [
      "label        0.0  1.0\n",
      "status_good          \n",
      "0.0          166  112\n",
      "1.0          100  136\n"
     ]
    },
    {
     "data": {
      "image/png": "[encoded data removed]",
      "text/plain": [
       "<Figure size 576x396 with 1 Axes>"
      ]
     },
     "metadata": {},
     "output_type": "display_data"
    }
   ],
   "source": [
    "# Checking balance, new variables:\n",
    "\n",
    "t_status_good = pd.crosstab(index=df_m[\"status_good\"], columns=df_m[\"label\"])\n",
    "\n",
    "print(t_status_good)\n",
    "t_afternoon.plot.bar(stacked=True)\n",
    "plt.legend(title='mark')\n",
    "\n",
    "plt.show()"
   ]
  },
  {
   "cell_type": "code",
   "execution_count": 170,
   "metadata": {},
   "outputs": [
    {
     "name": "stdout",
     "output_type": "stream",
     "text": [
      "label      0.0  1.0\n",
      "afternoon          \n",
      "0          160   99\n",
      "1          106  149\n"
     ]
    },
    {
     "data": {
      "image/png": "[encoded data removed]",
      "text/plain": [
       "<Figure size 576x396 with 1 Axes>"
      ]
     },
     "metadata": {},
     "output_type": "display_data"
    }
   ],
   "source": [
    "# Checking balance, new variables:\n",
    "\n",
    "t_afternoon = pd.crosstab(index=df_m[\"afternoon\"], columns=df_m[\"label\"])\n",
    "\n",
    "print(t_afternoon)\n",
    "t_afternoon.plot.bar(stacked=True)\n",
    "plt.legend(title='mark')\n",
    "\n",
    "plt.show()"
   ]
  },
  {
   "cell_type": "code",
   "execution_count": 168,
   "metadata": {},
   "outputs": [
    {
     "data": {
      "image/png": "[encoded data removed]",
      "text/plain": [
       "<Figure size 576x396 with 1 Axes>"
      ]
     },
     "metadata": {},
     "output_type": "display_data"
    }
   ],
   "source": [
    "# Checking balance, new variables:\n",
    "\n",
    "t_long_weekend = pd.crosstab(index=df_m[\"long_weekend\"], columns=df_m[\"label\"])\n",
    "\n",
    "t_long_weekend.plot.bar(stacked=True)\n",
    "plt.legend(title='mark')\n",
    "\n",
    "plt.show()"
   ]
  },
  {
   "cell_type": "code",
   "execution_count": 166,
   "metadata": {},
   "outputs": [
    {
     "data": {
      "image/png": "[encoded data removed]",
      "text/plain": [
       "<Figure size 576x396 with 1 Axes>"
      ]
     },
     "metadata": {},
     "output_type": "display_data"
    }
   ],
   "source": [
    "# Checking balance, new variables:\n",
    "\n",
    "t_weekend = pd.crosstab(index=df_m[\"weekend\"], columns=df_m[\"label\"])\n",
    "\n",
    "t_weekend.plot.bar(stacked=True)\n",
    "plt.legend(title='mark')\n",
    "\n",
    "plt.show()"
   ]
  },
  {
   "cell_type": "code",
   "execution_count": 163,
   "metadata": {},
   "outputs": [
    {
     "data": {
      "image/png": "[encoded data removed]",
      "text/plain": [
       "<Figure size 576x396 with 1 Axes>"
      ]
     },
     "metadata": {},
     "output_type": "display_data"
    }
   ],
   "source": [
    "# Checking balance, new variables:\n",
    "\n",
    "t_aw_5 = pd.crosstab(index=df_m[\"aw_5\"], columns=df_m[\"label\"])\n",
    "\n",
    "t_aw_5.plot.bar(stacked=True)\n",
    "plt.legend(title='mark')\n",
    "\n",
    "plt.show()"
   ]
  },
  {
   "cell_type": "code",
   "execution_count": 162,
   "metadata": {},
   "outputs": [
    {
     "data": {
      "image/png": "[encoded data removed]",
      "text/plain": [
       "<Figure size 576x396 with 1 Axes>"
      ]
     },
     "metadata": {},
     "output_type": "display_data"
    }
   ],
   "source": [
    "# Checking balance, new variables:\n",
    "\n",
    "t_aw_5_w = pd.crosstab(index=df_m[\"aw_5_w\"], columns=df_m[\"label\"])\n",
    "\n",
    "t_aw_5_w.plot.bar(stacked=True)\n",
    "plt.legend(title='mark')\n",
    "\n",
    "plt.show()"
   ]
  },
  {
   "cell_type": "code",
   "execution_count": 164,
   "metadata": {},
   "outputs": [
    {
     "data": {
      "image/png": "[encoded data removed]",
      "text/plain": [
       "<Figure size 576x396 with 1 Axes>"
      ]
     },
     "metadata": {},
     "output_type": "display_data"
    }
   ],
   "source": [
    "# Checking balance, new variables:\n",
    "\n",
    "t_aw_6 = pd.crosstab(index=df_m[\"aw_6\"], columns=df_m[\"label\"])\n",
    "\n",
    "t_aw_6.plot.bar(stacked=True)\n",
    "plt.legend(title='mark')\n",
    "\n",
    "plt.show()"
   ]
  },
  {
   "cell_type": "code",
   "execution_count": 165,
   "metadata": {},
   "outputs": [
    {
     "data": {
      "image/png": "[encoded data removed]",
      "text/plain": [
       "<Figure size 576x396 with 1 Axes>"
      ]
     },
     "metadata": {},
     "output_type": "display_data"
    }
   ],
   "source": [
    "# Checking balance, new variables:\n",
    "\n",
    "t_aw_6_w = pd.crosstab(index=df_m[\"aw_6_w\"], columns=df_m[\"label\"])\n",
    "\n",
    "t_aw_6_w.plot.bar(stacked=True)\n",
    "plt.legend(title='mark')\n",
    "\n",
    "plt.show()"
   ]
  },
  {
   "cell_type": "markdown",
   "metadata": {},
   "source": [
    "# Fitting some models"
   ]
  },
  {
   "cell_type": "code",
   "execution_count": null,
   "metadata": {},
   "outputs": [],
   "source": [
    "from sklearn import metrics \n",
    "from sklearn.linear_model import LogisticRegression\n",
    "from sklearn.model_selection import train_test_split\n",
    "from sklearn.metrics import confusion_matrix\n",
    "from sklearn.metrics import classification_report\n"
   ]
  },
  {
   "cell_type": "code",
   "execution_count": 79,
   "metadata": {},
   "outputs": [
    {
     "data": {
      "text/plain": [
       "Index([          'time_bin',              'label',             'source',\n",
       "       'current_popularity',         'wind_speed',               'temp',\n",
       "              'status_good',       'status_maybe',         'status_bad',\n",
       "                'dayofweek',               'hour',           'day_name',\n",
       "                          0,                    1,                    2,\n",
       "                          3,                    4,                    5,\n",
       "                          6,            'weekend',       'long_weekend',\n",
       "                     'aw_5',               'aw_6',             'aw_5_w',\n",
       "                   'aw_6_w',          'afternoon'],\n",
       "      dtype='object')"
      ]
     },
     "execution_count": 79,
     "metadata": {},
     "output_type": "execute_result"
    }
   ],
   "source": [
    "df_m.columns"
   ]
  },
  {
   "cell_type": "code",
   "execution_count": 125,
   "metadata": {},
   "outputs": [
    {
     "name": "stdout",
     "output_type": "stream",
     "text": [
      "The regularized theta using lasso regression:\n",
      "\n",
      "['current_popularity', 0.013890044543653108]\n",
      "['wind_speed', -0.019886966892317594]\n",
      "['temp', 0.04525894934572184]\n",
      "['status_good', 0.0]\n",
      "['status_maybe', -0.10766015040952]\n",
      "['status_bad', -0.0033076091148626164]\n",
      "['dayofweek', -0.05600251191943116]\n",
      "['hour', -0.18315605821961867]\n",
      "[0, -0.28720032129149914]\n",
      "[1, -0.2734611585096941]\n",
      "[2, 0.4113349783546118]\n",
      "[3, -0.1285358449093044]\n",
      "[4, 0.4057865582200376]\n",
      "[5, -0.6697351442300993]\n",
      "[6, 0.0]\n",
      "['weekend', 0.0]\n",
      "['long_weekend', -1.638276839118523e-06]\n",
      "['aw_5', 0.0]\n",
      "['aw_6', 0.6378695524040305]\n",
      "['aw_5_w', 1.1840821801620753]\n",
      "['aw_6_w', 0.09695882981703689]\n",
      "['afternoon', 1.043140346564126]\n",
      "accuracy: 68.9922480620155\n",
      "\n",
      "ClassificationReport\n",
      "              precision    recall  f1-score   support\n",
      "\n",
      "         0.0       0.75      0.69      0.72        74\n",
      "         1.0       0.62      0.69      0.66        55\n",
      "\n",
      "    accuracy                           0.69       129\n",
      "   macro avg       0.69      0.69      0.69       129\n",
      "weighted avg       0.70      0.69      0.69       129\n",
      "\n"
     ]
    }
   ],
   "source": [
    "df_m1 = df_m[['current_popularity',         'wind_speed',               'temp',\n",
    "              'status_good',       'status_maybe',         'status_bad',\n",
    "                'dayofweek',               'hour',           'label',\n",
    "                          0,                    1,                    2,\n",
    "                          3,                    4,                    5,\n",
    "                          6,            'weekend',       'long_weekend',\n",
    "                     'aw_5',               'aw_6',             'aw_5_w',\n",
    "                   'aw_6_w',          'afternoon']]\n",
    "\n",
    "x = df_m1.drop('label',axis = 1)\n",
    "y = df_m1['label']\n",
    "\n",
    "x_train, x_test, y_train, y_test = train_test_split(x, y, test_size = 0.25, random_state=4)\n",
    "\n",
    "\n",
    "from sklearn.linear_model import LogisticRegression\n",
    "clf = LogisticRegression(C=1, penalty='l1', solver='liblinear')\n",
    "\n",
    "clf.fit(x_train, y_train)\n",
    "\n",
    "\n",
    "thetaLasso=clf.coef_\n",
    "\n",
    "print(\"The regularized theta using lasso regression:\\n\")\n",
    "thetas = []\n",
    "for i in range(len(x.columns)):\n",
    "    thetas.append([x.columns[i],thetaLasso[0][i]] )\n",
    "for i in range(len(thetas)):\n",
    "    print(thetas[i])\n",
    "\n",
    "y_pred = clf.predict(x_test)\n",
    "accuracy = metrics.accuracy_score(y_test, y_pred)\n",
    "accuracy_percentage = 100 * accuracy\n",
    "\n",
    "print(\"accuracy:\", accuracy_percentage)\n",
    "print(\"\\nClassificationReport\")\n",
    "print(classification_report(y_test, y_pred))"
   ]
  },
  {
   "cell_type": "code",
   "execution_count": 84,
   "metadata": {},
   "outputs": [
    {
     "data": {
      "image/png": "[encoded data removed]",
      "text/plain": [
       "<Figure size 576x396 with 1 Axes>"
      ]
     },
     "metadata": {},
     "output_type": "display_data"
    }
   ],
   "source": [
    "from sklearn.metrics import roc_auc_score\n",
    "from sklearn.metrics import roc_curve\n",
    "\n",
    "logit_roc_auc = roc_auc_score(y_test, clf.predict(x_test))\n",
    "fpr, tpr, thresholds = roc_curve(y_test, clf.predict_proba(x_test)[:,1])\n",
    "plt.figure()\n",
    "plt.plot(fpr, tpr, label='Logistic Regression (area = %0.2f)' % logit_roc_auc)\n",
    "plt.plot([0, 1], [0, 1],'r--')\n",
    "plt.xlim([0.0, 1.0])\n",
    "plt.ylim([0.0, 1.05])\n",
    "plt.xlabel('False Positive Rate')\n",
    "plt.ylabel('True Positive Rate')\n",
    "plt.title('Receiver operating characteristic')\n",
    "plt.legend(loc=\"lower right\")\n",
    "plt.savefig('Log_ROC')\n",
    "plt.show()"
   ]
  },
  {
   "cell_type": "markdown",
   "metadata": {},
   "source": [
    "Trying again without days of the week:"
   ]
  },
  {
   "cell_type": "code",
   "execution_count": 134,
   "metadata": {},
   "outputs": [
    {
     "name": "stdout",
     "output_type": "stream",
     "text": [
      "[['current_popularity', 0.01592170126486202], ['wind_speed', -0.015874713812054377], ['temp', 0.02688118677740817], ['status_good', 0.0], ['status_maybe', -0.22772787432735775], ['status_bad', 0.0], ['dayofweek', 0.08250473690212037], ['hour', -0.17651941350900646], ['weekend', 0.1470748071007696], ['long_weekend', -0.40562557755321044], ['aw_5', 0.0], ['aw_6', 0.6884075104454028], ['aw_5_w', 1.1953879089407022], ['aw_6_w', 0.08147927127380805], ['afternoon', 1.0532803327555962]]\n"
     ]
    }
   ],
   "source": [
    "for element in thetas:\n",
    "    if element[1] == 0:\n",
    "        del(element)\n",
    "print(thetas)"
   ]
  },
  {
   "cell_type": "code",
   "execution_count": 147,
   "metadata": {},
   "outputs": [
    {
     "name": "stdout",
     "output_type": "stream",
     "text": [
      "The regularized theta using lasso regression:\n",
      "\n",
      "['current_popularity', 0.01563467507394655]\n",
      "['temp', 0.035036254557001614]\n",
      "['status_maybe', -0.2111255992778279]\n",
      "['hour', -0.17918588217075182]\n",
      "['weekend', 0.18469792900545787]\n",
      "['aw_6', 0.6811517230526998]\n",
      "['aw_5_w', 1.228979544658271]\n",
      "['aw_6_w', 0.035968561475710495]\n",
      "['afternoon', 1.0118712116746207]\n",
      "accuracy: 66.66666666666666\n",
      "\n",
      "ClassificationReport\n",
      "              precision    recall  f1-score   support\n",
      "\n",
      "         0.0       0.71      0.72      0.71        74\n",
      "         1.0       0.61      0.60      0.61        55\n",
      "\n",
      "    accuracy                           0.67       129\n",
      "   macro avg       0.66      0.66      0.66       129\n",
      "weighted avg       0.67      0.67      0.67       129\n",
      "\n"
     ]
    }
   ],
   "source": [
    "df_m1 = df_m[['current_popularity', 'temp', 'status_maybe',  'hour', \n",
    "              'label','weekend','aw_6', 'aw_5_w','aw_6_w','afternoon']]\n",
    "\n",
    "x = df_m1.drop('label',axis = 1)\n",
    "y = df_m1['label']\n",
    "\n",
    "x_train, x_test, y_train, y_test = train_test_split(x, y, test_size = 0.25, random_state=4)\n",
    "\n",
    "\n",
    "from sklearn.linear_model import LogisticRegression\n",
    "clf = LogisticRegression(C=1, penalty='l1', solver='liblinear')\n",
    "\n",
    "clf.fit(x_train, y_train)\n",
    "\n",
    "\n",
    "thetaLasso=clf.coef_\n",
    "\n",
    "print(\"The regularized theta using lasso regression:\\n\")\n",
    "thetas = []\n",
    "for i in range(len(x.columns)):\n",
    "    thetas.append([x.columns[i],thetaLasso[0][i]] )\n",
    "for i in range(len(thetas)):\n",
    "    print(thetas[i])\n",
    "\n",
    "y_pred = clf.predict(x_test)\n",
    "accuracy = metrics.accuracy_score(y_test, y_pred)\n",
    "accuracy_percentage = 100 * accuracy\n",
    "\n",
    "print(\"accuracy:\", accuracy_percentage)\n",
    "print(\"\\nClassificationReport\")\n",
    "print(classification_report(y_test, y_pred))"
   ]
  },
  {
   "cell_type": "code",
   "execution_count": 148,
   "metadata": {},
   "outputs": [
    {
     "data": {
      "image/png": "[encoded data removed]",
      "text/plain": [
       "<Figure size 576x396 with 1 Axes>"
      ]
     },
     "metadata": {},
     "output_type": "display_data"
    }
   ],
   "source": [
    "from sklearn.metrics import roc_auc_score\n",
    "from sklearn.metrics import roc_curve\n",
    "\n",
    "logit_roc_auc = roc_auc_score(y_test, clf.predict(x_test))\n",
    "fpr, tpr, thresholds = roc_curve(y_test, clf.predict_proba(x_test)[:,1])\n",
    "plt.figure()\n",
    "plt.plot(fpr, tpr, label='Logistic Regression (area = %0.2f)' % logit_roc_auc)\n",
    "plt.plot([0, 1], [0, 1],'r--')\n",
    "plt.xlim([0.0, 1.0])\n",
    "plt.ylim([0.0, 1.05])\n",
    "plt.xlabel('False Positive Rate')\n",
    "plt.ylabel('True Positive Rate')\n",
    "plt.title('Receiver operating characteristic')\n",
    "plt.legend(loc=\"lower right\")\n",
    "plt.savefig('Log_ROC')\n",
    "plt.show()"
   ]
  },
  {
   "cell_type": "markdown",
   "metadata": {},
   "source": [
    "Random Forest Model"
   ]
  },
  {
   "cell_type": "code",
   "execution_count": 157,
   "metadata": {},
   "outputs": [
    {
     "name": "stderr",
     "output_type": "stream",
     "text": [
      "[Parallel(n_jobs=-1)]: Using backend ThreadingBackend with 8 concurrent workers.\n",
      "[Parallel(n_jobs=-1)]: Done  34 tasks      | elapsed:    0.0s\n",
      "[Parallel(n_jobs=-1)]: Done 100 out of 100 | elapsed:    0.1s finished\n"
     ]
    },
    {
     "name": "stdout",
     "output_type": "stream",
     "text": [
      "Average number of nodes 180\n",
      "Average maximum depth 14\n"
     ]
    },
    {
     "name": "stderr",
     "output_type": "stream",
     "text": [
      "[Parallel(n_jobs=8)]: Using backend ThreadingBackend with 8 concurrent workers.\n",
      "[Parallel(n_jobs=8)]: Done  34 tasks      | elapsed:    0.0s\n",
      "[Parallel(n_jobs=8)]: Done 100 out of 100 | elapsed:    0.0s finished\n",
      "[Parallel(n_jobs=8)]: Using backend ThreadingBackend with 8 concurrent workers.\n",
      "[Parallel(n_jobs=8)]: Done  34 tasks      | elapsed:    0.0s\n",
      "[Parallel(n_jobs=8)]: Done 100 out of 100 | elapsed:    0.0s finished\n",
      "[Parallel(n_jobs=8)]: Using backend ThreadingBackend with 8 concurrent workers.\n",
      "[Parallel(n_jobs=8)]: Done  34 tasks      | elapsed:    0.0s\n",
      "[Parallel(n_jobs=8)]: Done 100 out of 100 | elapsed:    0.0s finished\n",
      "[Parallel(n_jobs=8)]: Using backend ThreadingBackend with 8 concurrent workers.\n",
      "[Parallel(n_jobs=8)]: Done  34 tasks      | elapsed:    0.0s\n",
      "[Parallel(n_jobs=8)]: Done 100 out of 100 | elapsed:    0.0s finished\n"
     ]
    },
    {
     "name": "stdout",
     "output_type": "stream",
     "text": [
      "Recall Baseline: 1.0 Test: 0.81 Train: 1.0\n",
      "Precision Baseline: 0.48 Test: 0.8 Train: 1.0\n",
      "Roc Baseline: 0.5 Test: 0.9 Train: 1.0\n"
     ]
    },
    {
     "data": {
      "image/png": "[encoded data removed]",
      "text/plain": [
       "<Figure size 576x432 with 1 Axes>"
      ]
     },
     "metadata": {},
     "output_type": "display_data"
    },
    {
     "name": "stdout",
     "output_type": "stream",
     "text": [
      "Confusion matrix, without normalization\n",
      "[[65 15]\n",
      " [14 61]]\n"
     ]
    },
    {
     "data": {
      "text/plain": [
       "<Figure size 576x396 with 0 Axes>"
      ]
     },
     "metadata": {},
     "output_type": "display_data"
    },
    {
     "data": {
      "image/png": "[encoded data removed]",
      "text/plain": [
       "<Figure size 720x720 with 2 Axes>"
      ]
     },
     "metadata": {},
     "output_type": "display_data"
    }
   ],
   "source": [
    "import pandas as pd\n",
    "import numpy as np\n",
    "from sklearn.model_selection import train_test_split\n",
    "from sklearn.ensemble import RandomForestClassifier\n",
    "\n",
    "RSEED = 50\n",
    "df_m1 = df_m[['current_popularity',         'wind_speed',               'temp',\n",
    "                     'status_maybe',         'status_bad',\n",
    "                'dayofweek',               'hour',           'label',\n",
    "                          0,                    1,                    2,\n",
    "                          3,                    4,                    5,\n",
    "                          6,            'weekend',       'long_weekend',\n",
    "                     'aw_5',               'aw_6',             'aw_5_w',\n",
    "                   'aw_6_w',          'afternoon']]\n",
    "\n",
    "\n",
    "\n",
    "RSEED = 50\n",
    "\n",
    "# Load in data\n",
    "df = df_m1\n",
    "\n",
    "# Extract the labels\n",
    "labels = np.array(df.pop('label'))\n",
    "\n",
    "# 30% examples in test data\n",
    "train, test, train_labels, test_labels = train_test_split(df,\n",
    "                                         labels, \n",
    "                                         stratify = labels,\n",
    "                                         test_size = 0.3, \n",
    "                                         random_state = RSEED)\n",
    "\n",
    "# Imputation of missing values\n",
    "train = train.fillna(train.mean())\n",
    "test = test.fillna(test.mean())\n",
    "\n",
    "# Features for feature importances\n",
    "features = list(train.columns)\n",
    "\n",
    "# Create the model with 100 trees\n",
    "model = RandomForestClassifier(n_estimators=100, \n",
    "                               random_state=RSEED, \n",
    "                               max_features = 'sqrt',\n",
    "                               n_jobs=-1, verbose = 1)\n",
    "\n",
    "# Fit on training data\n",
    "model.fit(train, train_labels)\n",
    "\n",
    "\n",
    "n_nodes = []\n",
    "max_depths = []\n",
    "\n",
    "# Stats about the trees in random forest\n",
    "for ind_tree in model.estimators_:\n",
    "    n_nodes.append(ind_tree.tree_.node_count)\n",
    "    max_depths.append(ind_tree.tree_.max_depth)\n",
    "    \n",
    "print(f'Average number of nodes {int(np.mean(n_nodes))}')\n",
    "print(f'Average maximum depth {int(np.mean(max_depths))}')\n",
    "\n",
    "# Training predictions (to demonstrate overfitting)\n",
    "train_rf_predictions = model.predict(train)\n",
    "train_rf_probs = model.predict_proba(train)[:, 1]\n",
    "\n",
    "# Testing predictions (to determine performance)\n",
    "rf_predictions = model.predict(test)\n",
    "rf_probs = model.predict_proba(test)[:, 1]\n",
    "\n",
    "from sklearn.metrics import precision_score, recall_score, roc_auc_score, roc_curve\n",
    "import matplotlib.pyplot as plt\n",
    "\n",
    "# Plot formatting\n",
    "plt.style.use('fivethirtyeight')\n",
    "plt.rcParams['font.size'] = 18\n",
    "\n",
    "def evaluate_model(predictions, probs, train_predictions, train_probs):\n",
    "    \"\"\"Compare machine learning model to baseline performance.\n",
    "    Computes statistics and shows ROC curve.\"\"\"\n",
    "    \n",
    "    baseline = {}\n",
    "    \n",
    "    baseline['recall'] = recall_score(test_labels, \n",
    "                                     [1 for _ in range(len(test_labels))])\n",
    "    baseline['precision'] = precision_score(test_labels, \n",
    "                                      [1 for _ in range(len(test_labels))])\n",
    "    baseline['roc'] = 0.5\n",
    "    \n",
    "    results = {}\n",
    "    \n",
    "    results['recall'] = recall_score(test_labels, predictions)\n",
    "    results['precision'] = precision_score(test_labels, predictions)\n",
    "    results['roc'] = roc_auc_score(test_labels, probs)\n",
    "    \n",
    "    train_results = {}\n",
    "    train_results['recall'] = recall_score(train_labels, train_predictions)\n",
    "    train_results['precision'] = precision_score(train_labels, train_predictions)\n",
    "    train_results['roc'] = roc_auc_score(train_labels, train_probs)\n",
    "    \n",
    "    for metric in ['recall', 'precision', 'roc']:\n",
    "        print(f'{metric.capitalize()} Baseline: {round(baseline[metric], 2)} Test: {round(results[metric], 2)} Train: {round(train_results[metric], 2)}')\n",
    "    \n",
    "    # Calculate false positive rates and true positive rates\n",
    "    base_fpr, base_tpr, _ = roc_curve(test_labels, [1 for _ in range(len(test_labels))])\n",
    "    model_fpr, model_tpr, _ = roc_curve(test_labels, probs)\n",
    "\n",
    "    plt.figure(figsize = (8, 6))\n",
    "    plt.rcParams['font.size'] = 16\n",
    "    \n",
    "    # Plot both curves\n",
    "    plt.plot(base_fpr, base_tpr, 'b', label = 'baseline')\n",
    "    plt.plot(model_fpr, model_tpr, 'r', label = 'model')\n",
    "    plt.legend();\n",
    "    plt.xlabel('False Positive Rate'); \n",
    "    plt.ylabel('True Positive Rate'); plt.title('ROC Curves');\n",
    "    plt.show();\n",
    "\n",
    "evaluate_model(rf_predictions, rf_probs, train_rf_predictions, train_rf_probs)\n",
    "plt.savefig('roc_auc_curve.png')\n",
    "\n",
    "from sklearn.metrics import confusion_matrix\n",
    "import itertools\n",
    "\n",
    "def plot_confusion_matrix(cm, classes,\n",
    "                          normalize=False,\n",
    "                          title='Confusion matrix',\n",
    "                          cmap=plt.cm.Oranges):\n",
    "    \"\"\"\n",
    "    This function prints and plots the confusion matrix.\n",
    "    Normalization can be applied by setting `normalize=True`.\n",
    "    Source: http://scikit-learn.org/stable/auto_examples/model_selection/plot_confusion_matrix.html\n",
    "    \"\"\"\n",
    "    if normalize:\n",
    "        cm = cm.astype('float') / cm.sum(axis=1)[:, np.newaxis]\n",
    "        print(\"Normalized confusion matrix\")\n",
    "    else:\n",
    "        print('Confusion matrix, without normalization')\n",
    "\n",
    "    print(cm)\n",
    "\n",
    "    # Plot the confusion matrix\n",
    "    plt.figure(figsize = (10, 10))\n",
    "    plt.imshow(cm, interpolation='nearest', cmap=cmap)\n",
    "    plt.title(title, size = 24)\n",
    "    plt.colorbar(aspect=4)\n",
    "    tick_marks = np.arange(len(classes))\n",
    "    plt.xticks(tick_marks, classes, rotation=45, size = 14)\n",
    "    plt.yticks(tick_marks, classes, size = 14)\n",
    "\n",
    "    fmt = '.2f' if normalize else 'd'\n",
    "    thresh = cm.max() / 2.\n",
    "    \n",
    "    # Labeling the plot\n",
    "    for i, j in itertools.product(range(cm.shape[0]), range(cm.shape[1])):\n",
    "        plt.text(j, i, format(cm[i, j], fmt), fontsize = 20,\n",
    "                 horizontalalignment=\"center\",\n",
    "                 color=\"white\" if cm[i, j] > thresh else \"black\")\n",
    "        \n",
    "    plt.grid(None)\n",
    "    plt.tight_layout()\n",
    "    plt.ylabel('True label', size = 18)\n",
    "    plt.xlabel('Predicted label', size = 18)\n",
    "\n",
    "# Confusion matrix\n",
    "cm = confusion_matrix(test_labels, rf_predictions)\n",
    "plot_confusion_matrix(cm, classes = ['0', '1'],\n",
    "                      title = 'Confusion Matrix')\n",
    "\n",
    "plt.savefig('cm.png')"
   ]
  }
 ],
 "metadata": {
  "kernelspec": {
   "display_name": "ker_sd",
   "language": "python",
   "name": "ker_sd"
  },
  "language_info": {
   "codemirror_mode": {
    "name": "ipython",
    "version": 3
   },
   "file_extension": ".py",
   "mimetype": "text/x-python",
   "name": "python",
   "nbconvert_exporter": "python",
   "pygments_lexer": "ipython3",
   "version": "3.7.4"
  }
 },
 "nbformat": 4,
 "nbformat_minor": 4
}
